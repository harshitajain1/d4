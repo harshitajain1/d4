{
 "cells": [
  {
   "cell_type": "markdown",
   "id": "4a651d45-c819-4985-8a05-8e3ff79ac66d",
   "metadata": {},
   "source": [
    "# DICTIONARY"
   ]
  },
  {
   "cell_type": "markdown",
   "id": "234867a3-68c5-4df7-93af-be1eaaf073d4",
   "metadata": {},
   "source": [
    "##### A dictionary is a kind of data structure that stores items in key-value pairs. A key is a unique identifier for an item, and a value is the data associated with that key."
   ]
  },
  {
   "cell_type": "markdown",
   "id": "3a766021-4413-47af-a327-82d3270e061f",
   "metadata": {},
   "source": [
    "# METHODS OF DICTIONARY"
   ]
  },
  {
   "cell_type": "markdown",
   "id": "e17b079b-4f5c-4e4e-be21-8109a3919f74",
   "metadata": {},
   "source": [
    " ##### It is a sequence of key-value pairs separated by commas and surrounded by curly braces.Itprovides more than 10 methods for working with dictionaries.\n"
   ]
  },
  {
   "cell_type": "markdown",
   "id": "d95e9ecc-c2d9-4e62-906c-b3b816bb1a1c",
   "metadata": {},
   "source": [
    "## Clear()"
   ]
  },
  {
   "cell_type": "markdown",
   "id": "a27dd62b-6b9e-48a9-9d9c-d9208f119b29",
   "metadata": {},
   "source": [
    "#### These methods Removes all elements from the dictionary.\n"
   ]
  },
  {
   "cell_type": "code",
   "execution_count": 7,
   "id": "3f67f9b5-671f-44d4-bab4-c4e127cb72a2",
   "metadata": {},
   "outputs": [
    {
     "data": {
      "text/plain": [
       "{'d1': 10, 'd2': 20, 'd3': 30}"
      ]
     },
     "execution_count": 7,
     "metadata": {},
     "output_type": "execute_result"
    }
   ],
   "source": [
    "dict1 = {'d1':10,'d2':20,'d3':30}\n",
    "dict1"
   ]
  },
  {
   "cell_type": "code",
   "execution_count": 8,
   "id": "5f25a9b2-d196-4877-8085-82083fbe83c4",
   "metadata": {},
   "outputs": [],
   "source": [
    "dict1.clear()"
   ]
  },
  {
   "cell_type": "code",
   "execution_count": 9,
   "id": "7001b7c9-78a6-47ed-9e9c-83264d21b80a",
   "metadata": {},
   "outputs": [
    {
     "data": {
      "text/plain": [
       "{}"
      ]
     },
     "execution_count": 9,
     "metadata": {},
     "output_type": "execute_result"
    }
   ],
   "source": [
    "dict1"
   ]
  },
  {
   "cell_type": "markdown",
   "id": "5ebea091-5174-49b6-bc08-fd6891b0aeb8",
   "metadata": {},
   "source": [
    "## Copy()"
   ]
  },
  {
   "cell_type": "markdown",
   "id": "6672b5ed-db21-4979-827f-e96976b0301c",
   "metadata": {},
   "source": [
    "#### This methods Returns a shallow copy of the dictionary."
   ]
  },
  {
   "cell_type": "code",
   "execution_count": 10,
   "id": "82488833-85b4-43b4-920a-766db685989e",
   "metadata": {},
   "outputs": [],
   "source": [
    "dict1 = {'d1':10,'d2':20,'d3':30}"
   ]
  },
  {
   "cell_type": "code",
   "execution_count": 12,
   "id": "1aa8c1a2-2e72-45c0-b51a-c19fff0e05bf",
   "metadata": {},
   "outputs": [
    {
     "data": {
      "text/plain": [
       "{'d1': 10, 'd2': 20, 'd3': 30}"
      ]
     },
     "execution_count": 12,
     "metadata": {},
     "output_type": "execute_result"
    }
   ],
   "source": [
    "dict1"
   ]
  },
  {
   "cell_type": "code",
   "execution_count": 14,
   "id": "b700387c-1a5a-442c-bf46-2754e0bfd609",
   "metadata": {},
   "outputs": [
    {
     "data": {
      "text/plain": [
       "{'d1': 10, 'd2': 20, 'd3': 30}"
      ]
     },
     "execution_count": 14,
     "metadata": {},
     "output_type": "execute_result"
    }
   ],
   "source": [
    "dict1.copy()"
   ]
  },
  {
   "cell_type": "markdown",
   "id": "83748d0d-219a-41f5-ac9a-0e26952c704d",
   "metadata": {},
   "source": [
    "## Fromkeys()"
   ]
  },
  {
   "cell_type": "markdown",
   "id": "77488ef2-4bf0-4471-95c7-e21a609f336c",
   "metadata": {},
   "source": [
    "#### This methods Creates a new dictionary with keys from seq and values set to value"
   ]
  },
  {
   "cell_type": "code",
   "execution_count": 17,
   "id": "ad04c009-72e0-4b52-a633-4f35c0cc8e92",
   "metadata": {},
   "outputs": [
    {
     "name": "stdout",
     "output_type": "stream",
     "text": [
      "{'d4': 40, 'd5': 40}\n"
     ]
    }
   ],
   "source": [
    "dict2 = ('d4','d5')\n",
    "dict3 = 40\n",
    "new_dict = dict.fromkeys(dict2,dict3)\n",
    "print(new_dict)"
   ]
  },
  {
   "cell_type": "markdown",
   "id": "b3eec901-2a01-46ce-bb5a-e5dab70df107",
   "metadata": {},
   "source": [
    "## Get()"
   ]
  },
  {
   "cell_type": "markdown",
   "id": "a0ef8e1b-d61c-4c0d-be52-629dcdda2a5e",
   "metadata": {},
   "source": [
    "#### It Returns the value for key if key is in the dictionary; otherwise, it returns default.\n"
   ]
  },
  {
   "cell_type": "code",
   "execution_count": 19,
   "id": "3a336f49-b35e-408b-a76b-99f5f40ffedf",
   "metadata": {},
   "outputs": [
    {
     "data": {
      "text/plain": [
       "{'d1': 10, 'd2': 20, 'd3': 30}"
      ]
     },
     "execution_count": 19,
     "metadata": {},
     "output_type": "execute_result"
    }
   ],
   "source": [
    "dict1"
   ]
  },
  {
   "cell_type": "code",
   "execution_count": 21,
   "id": "a5a10647-30a2-450e-848b-4a5f3c429b47",
   "metadata": {},
   "outputs": [
    {
     "data": {
      "text/plain": [
       "30"
      ]
     },
     "execution_count": 21,
     "metadata": {},
     "output_type": "execute_result"
    }
   ],
   "source": [
    "dict1.get('d3')"
   ]
  },
  {
   "cell_type": "markdown",
   "id": "a0c9e476-d1bb-45ae-b0ff-514e8d05d6aa",
   "metadata": {},
   "source": [
    "## Items()"
   ]
  },
  {
   "cell_type": "markdown",
   "id": "78e4f215-5a7a-4e9f-9d13-3bcfcd507a03",
   "metadata": {},
   "source": [
    "#### This methods Returns a view object that displays a list of dictionary's key-value tuple pairs."
   ]
  },
  {
   "cell_type": "code",
   "execution_count": 23,
   "id": "e7e74edf-023b-4576-8d30-4d301a5b51b7",
   "metadata": {},
   "outputs": [
    {
     "data": {
      "text/plain": [
       "{'d1': 10, 'd2': 20, 'd3': 30}"
      ]
     },
     "execution_count": 23,
     "metadata": {},
     "output_type": "execute_result"
    }
   ],
   "source": [
    "dict1"
   ]
  },
  {
   "cell_type": "code",
   "execution_count": 25,
   "id": "ec315646-5687-4d3b-83e1-03918a62fcaa",
   "metadata": {},
   "outputs": [
    {
     "data": {
      "text/plain": [
       "dict_items([('d1', 10), ('d2', 20), ('d3', 30)])"
      ]
     },
     "execution_count": 25,
     "metadata": {},
     "output_type": "execute_result"
    }
   ],
   "source": [
    "dict1.items()"
   ]
  },
  {
   "cell_type": "markdown",
   "id": "c8e1a971-8973-4541-9616-834603677a18",
   "metadata": {},
   "source": [
    "## Keys()"
   ]
  },
  {
   "cell_type": "markdown",
   "id": "8bee6d11-d811-42fe-bb24-7e29f7a342ca",
   "metadata": {},
   "source": [
    "#### Returns a view object that displays a list of all the keys in the dictionary."
   ]
  },
  {
   "cell_type": "code",
   "execution_count": 27,
   "id": "b02efdcf-a0e9-4496-8ee8-d7457eb95df9",
   "metadata": {},
   "outputs": [
    {
     "data": {
      "text/plain": [
       "{'d1': 10, 'd2': 20, 'd3': 30}"
      ]
     },
     "execution_count": 27,
     "metadata": {},
     "output_type": "execute_result"
    }
   ],
   "source": [
    "dict1"
   ]
  },
  {
   "cell_type": "code",
   "execution_count": 29,
   "id": "15b68664-8034-4d51-a1ff-292e6faf3d91",
   "metadata": {},
   "outputs": [
    {
     "data": {
      "text/plain": [
       "dict_keys(['d1', 'd2', 'd3'])"
      ]
     },
     "execution_count": 29,
     "metadata": {},
     "output_type": "execute_result"
    }
   ],
   "source": [
    "dict1.keys()"
   ]
  },
  {
   "cell_type": "markdown",
   "id": "046a2349-c167-469f-b040-be5002d53563",
   "metadata": {},
   "source": [
    "## Pop()"
   ]
  },
  {
   "cell_type": "markdown",
   "id": "a86b07f9-75ad-4914-8bcc-c5f068b4791e",
   "metadata": {},
   "source": [
    "#### It Removes the specified key and returns the corresponding value. If the key is not found, default is returned if provided, otherwise KeyError is raised."
   ]
  },
  {
   "cell_type": "code",
   "execution_count": 31,
   "id": "34821be6-5c39-4e7b-ab2d-b0c61dc69da6",
   "metadata": {},
   "outputs": [
    {
     "data": {
      "text/plain": [
       "{'d1': 10, 'd2': 20, 'd3': 30}"
      ]
     },
     "execution_count": 31,
     "metadata": {},
     "output_type": "execute_result"
    }
   ],
   "source": [
    "dict1"
   ]
  },
  {
   "cell_type": "code",
   "execution_count": null,
   "id": "9525a4c8-4574-450a-bb92-b66395f52c47",
   "metadata": {},
   "outputs": [],
   "source": [
    "dict1.pop('d2')"
   ]
  },
  {
   "cell_type": "code",
   "execution_count": 35,
   "id": "ed36b69c-8a2f-4828-a3f8-a97e2d7e58b5",
   "metadata": {},
   "outputs": [
    {
     "data": {
      "text/plain": [
       "{'d1': 10, 'd3': 30}"
      ]
     },
     "execution_count": 35,
     "metadata": {},
     "output_type": "execute_result"
    }
   ],
   "source": [
    "dict1"
   ]
  },
  {
   "cell_type": "markdown",
   "id": "4accdfb0-45e9-4ecc-ae72-a852535e1f16",
   "metadata": {},
   "source": [
    "## Popitem()"
   ]
  },
  {
   "cell_type": "markdown",
   "id": "6215873d-25c0-45cc-aa05-46670659047a",
   "metadata": {},
   "source": [
    "#### It Removes and returns an arbitrary key-value pair from the dictionary. If the dictionary is empty, a KeyError is raised."
   ]
  },
  {
   "cell_type": "code",
   "execution_count": 37,
   "id": "c713bfc6-8de3-47d4-8ef9-d2570d526643",
   "metadata": {},
   "outputs": [
    {
     "data": {
      "text/plain": [
       "{'s1': 50, 's2': 60, 's3': 70}"
      ]
     },
     "execution_count": 37,
     "metadata": {},
     "output_type": "execute_result"
    }
   ],
   "source": [
    "dict5 = {'s1':50,'s2':60,'s3':70}\n",
    "dict5"
   ]
  },
  {
   "cell_type": "code",
   "execution_count": 39,
   "id": "52c534ed-d9e5-4c6e-a25a-127317e9542d",
   "metadata": {},
   "outputs": [],
   "source": [
    "item = dict5.popitem()"
   ]
  },
  {
   "cell_type": "code",
   "execution_count": 41,
   "id": "56b52ed1-5b02-46e1-9cfe-2ec01d79f0b6",
   "metadata": {},
   "outputs": [
    {
     "data": {
      "text/plain": [
       "('s2', 60)"
      ]
     },
     "execution_count": 41,
     "metadata": {},
     "output_type": "execute_result"
    }
   ],
   "source": [
    "item"
   ]
  },
  {
   "cell_type": "code",
   "execution_count": 44,
   "id": "5961e18a-1aee-4b2f-b21f-97e6805dab67",
   "metadata": {},
   "outputs": [
    {
     "data": {
      "text/plain": [
       "{'s1': 50}"
      ]
     },
     "execution_count": 44,
     "metadata": {},
     "output_type": "execute_result"
    }
   ],
   "source": [
    "dict5"
   ]
  },
  {
   "cell_type": "markdown",
   "id": "9818566a-5f3d-497d-b9db-e788ee96ccb8",
   "metadata": {},
   "source": [
    "## Setdefault()"
   ]
  },
  {
   "cell_type": "markdown",
   "id": "a8352130-40d9-474e-a70b-7d5f4e7d2ffd",
   "metadata": {},
   "source": [
    "#### This method Returns the value of the specified key. If the key does not exist, insert the key with default value."
   ]
  },
  {
   "cell_type": "code",
   "execution_count": 46,
   "id": "f47823fb-1233-496c-9779-a5bc52273b03",
   "metadata": {},
   "outputs": [
    {
     "data": {
      "text/plain": [
       "{'s1': 50}"
      ]
     },
     "execution_count": 46,
     "metadata": {},
     "output_type": "execute_result"
    }
   ],
   "source": [
    "dict5"
   ]
  },
  {
   "cell_type": "code",
   "execution_count": 48,
   "id": "8b3f873b-968f-43e0-b61f-c348c41d77ac",
   "metadata": {},
   "outputs": [],
   "source": [
    "value = dict5.setdefault('s2',80)"
   ]
  },
  {
   "cell_type": "code",
   "execution_count": 50,
   "id": "f4025641-455c-4289-86e3-329db4467397",
   "metadata": {},
   "outputs": [
    {
     "data": {
      "text/plain": [
       "80"
      ]
     },
     "execution_count": 50,
     "metadata": {},
     "output_type": "execute_result"
    }
   ],
   "source": [
    "value"
   ]
  },
  {
   "cell_type": "code",
   "execution_count": 52,
   "id": "b6ccb0bb-250f-4966-900b-7baee8bb3f54",
   "metadata": {},
   "outputs": [
    {
     "data": {
      "text/plain": [
       "{'s1': 50, 's2': 80}"
      ]
     },
     "execution_count": 52,
     "metadata": {},
     "output_type": "execute_result"
    }
   ],
   "source": [
    "dict5"
   ]
  },
  {
   "cell_type": "markdown",
   "id": "3768a701-7787-4b42-af14-7c7ba3515f6e",
   "metadata": {},
   "source": [
    "## Update()"
   ]
  },
  {
   "cell_type": "markdown",
   "id": "34a61dbc-2072-44b8-8551-fe0f86a2546d",
   "metadata": {},
   "source": [
    "#### It Updates the dictionary with elements from another dictionary object or from an iterable of key-value pairs."
   ]
  },
  {
   "cell_type": "code",
   "execution_count": 54,
   "id": "62e1a08e-de0b-49e2-b8a0-1b4b932523bd",
   "metadata": {},
   "outputs": [
    {
     "data": {
      "text/plain": [
       "{'s1': 50, 's2': 80}"
      ]
     },
     "execution_count": 54,
     "metadata": {},
     "output_type": "execute_result"
    }
   ],
   "source": [
    "dict5"
   ]
  },
  {
   "cell_type": "code",
   "execution_count": 57,
   "id": "fa7386f7-af91-44e2-84be-0a7d5626a455",
   "metadata": {},
   "outputs": [],
   "source": [
    "dict5.update({'s3':90,'s4':100})"
   ]
  },
  {
   "cell_type": "code",
   "execution_count": 59,
   "id": "684ef6b1-5465-41bb-bf33-82712fb6dba5",
   "metadata": {},
   "outputs": [
    {
     "data": {
      "text/plain": [
       "{'s1': 50, 's2': 80, 's3': 90, 's4': 100}"
      ]
     },
     "execution_count": 59,
     "metadata": {},
     "output_type": "execute_result"
    }
   ],
   "source": [
    "dict5"
   ]
  },
  {
   "cell_type": "markdown",
   "id": "053288b5-015b-4d43-95b5-87f72100b0ad",
   "metadata": {},
   "source": [
    "## Values()"
   ]
  },
  {
   "cell_type": "markdown",
   "id": "ce5db728-e46c-46b2-a503-6524427dd210",
   "metadata": {},
   "source": [
    "#### This method Returns a view object that displays a list of all the values in the dictionary."
   ]
  },
  {
   "cell_type": "code",
   "execution_count": 61,
   "id": "0a8ff693-c285-45ca-8830-ce88d690566a",
   "metadata": {},
   "outputs": [
    {
     "data": {
      "text/plain": [
       "{'s1': 50, 's2': 80, 's3': 90, 's4': 100}"
      ]
     },
     "execution_count": 61,
     "metadata": {},
     "output_type": "execute_result"
    }
   ],
   "source": [
    "dict5"
   ]
  },
  {
   "cell_type": "code",
   "execution_count": 63,
   "id": "ad3c196d-317b-4657-ad36-31b6d486289a",
   "metadata": {},
   "outputs": [
    {
     "data": {
      "text/plain": [
       "dict_values([50, 80, 90, 100])"
      ]
     },
     "execution_count": 63,
     "metadata": {},
     "output_type": "execute_result"
    }
   ],
   "source": [
    "dict5.values()"
   ]
  }
 ],
 "metadata": {
  "kernelspec": {
   "display_name": "Python 3 (ipykernel)",
   "language": "python",
   "name": "python3"
  },
  "language_info": {
   "codemirror_mode": {
    "name": "ipython",
    "version": 3
   },
   "file_extension": ".py",
   "mimetype": "text/x-python",
   "name": "python",
   "nbconvert_exporter": "python",
   "pygments_lexer": "ipython3",
   "version": "3.11.7"
  }
 },
 "nbformat": 4,
 "nbformat_minor": 5
}
