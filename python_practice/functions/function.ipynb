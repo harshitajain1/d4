{
 "cells": [
  {
   "cell_type": "code",
   "execution_count": 1,
   "metadata": {},
   "outputs": [
    {
     "name": "stdout",
     "output_type": "stream",
     "text": [
      "Top of function\n",
      "Bottom of function\n",
      "inside function\n",
      "result = 10\n",
      "final result\n",
      "10\n"
     ]
    }
   ],
   "source": [
    "print('Top of function')\n",
    "\n",
    "def addValue(x,y):\n",
    "    print('inside function')\n",
    "    result = x + y \n",
    "    print(f'result = {result}')\n",
    "    return result\n",
    "\n",
    "print('Bottom of function')\n",
    "\n",
    "addResult = addValue(8,2)\n",
    "print('final result')\n",
    "print(addResult)"
   ]
  }
 ],
 "metadata": {
  "kernelspec": {
   "display_name": "Python 3",
   "language": "python",
   "name": "python3"
  },
  "language_info": {
   "codemirror_mode": {
    "name": "ipython",
    "version": 3
   },
   "file_extension": ".py",
   "mimetype": "text/x-python",
   "name": "python",
   "nbconvert_exporter": "python",
   "pygments_lexer": "ipython3",
   "version": "3.12.3"
  }
 },
 "nbformat": 4,
 "nbformat_minor": 2
}
