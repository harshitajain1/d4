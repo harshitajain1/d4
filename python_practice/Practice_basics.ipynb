{
 "cells": [
  {
   "cell_type": "markdown",
   "id": "4b7466da-c199-4ab2-8e14-ca9dd5a4a8fb",
   "metadata": {},
   "source": [
    "# BITWISE OPEARTORS"
   ]
  },
  {
   "cell_type": "code",
   "execution_count": 15,
   "id": "4e77eae3-7fa3-45fb-b04f-9df174e4cb5b",
   "metadata": {},
   "outputs": [],
   "source": [
    "X = 10         #1010 \n",
    "Y = 6          #0110"
   ]
  },
  {
   "cell_type": "code",
   "execution_count": 17,
   "id": "4e1460ca-a543-47ac-a49e-7dafc9c5a834",
   "metadata": {},
   "outputs": [
    {
     "name": "stdout",
     "output_type": "stream",
     "text": [
      "X & Y =  2\n"
     ]
    }
   ],
   "source": [
    "# Bitwise AND  \n",
    "print('X & Y = ', X & Y)"
   ]
  },
  {
   "cell_type": "code",
   "execution_count": 19,
   "id": "e62982ca-fbfd-4f9e-9719-ced10092877f",
   "metadata": {},
   "outputs": [
    {
     "name": "stdout",
     "output_type": "stream",
     "text": [
      "X | Y =  14\n"
     ]
    }
   ],
   "source": [
    "# Bitwise OR\n",
    "print('X | Y = ', X | Y)"
   ]
  },
  {
   "cell_type": "code",
   "execution_count": 21,
   "id": "0e82e75d-e136-4b1a-9cba-962e1d33485c",
   "metadata": {},
   "outputs": [
    {
     "name": "stdout",
     "output_type": "stream",
     "text": [
      "~ Y =  -7\n"
     ]
    }
   ],
   "source": [
    "# Bitwise NOT \n",
    "print('~ Y = ', ~ Y)"
   ]
  },
  {
   "cell_type": "markdown",
   "id": "e72cfea7-1617-4b46-94a2-a96c32dad2bb",
   "metadata": {},
   "source": [
    "# CREATING A STRING\n"
   ]
  },
  {
   "cell_type": "code",
   "execution_count": 22,
   "id": "19b985b4-eed4-4882-a679-b160470b7d13",
   "metadata": {},
   "outputs": [],
   "source": [
    "string1 = 'this is a string'\n",
    "string2 = 'this is another string' \n",
    "string3 = 'this is also a string'"
   ]
  },
  {
   "cell_type": "code",
   "execution_count": 28,
   "id": "e3bd44c2-7902-49c7-84ac-70817ee97a8e",
   "metadata": {},
   "outputs": [
    {
     "name": "stdout",
     "output_type": "stream",
     "text": [
      "this is another string\n"
     ]
    }
   ],
   "source": [
    "print(string2)"
   ]
  },
  {
   "cell_type": "markdown",
   "id": "fca3c51f-a776-4f8f-a105-9f31364374cb",
   "metadata": {},
   "source": [
    "### INDEXING A STRING"
   ]
  },
  {
   "cell_type": "code",
   "execution_count": 29,
   "id": "19c01ee3-b2c4-4d00-a39d-a42899ca5061",
   "metadata": {},
   "outputs": [
    {
     "name": "stdout",
     "output_type": "stream",
     "text": [
      "this is a string\n",
      "s\n"
     ]
    }
   ],
   "source": [
    "print(string1)\n",
    "print(string1[3])"
   ]
  },
  {
   "cell_type": "markdown",
   "id": "63340ca5-9216-4ce7-8592-144064dcbf26",
   "metadata": {},
   "source": [
    "### TYPES"
   ]
  },
  {
   "cell_type": "code",
   "execution_count": 31,
   "id": "42dbc6ca-8c27-4b05-aaed-c23a73919b34",
   "metadata": {},
   "outputs": [
    {
     "data": {
      "text/plain": [
       "str"
      ]
     },
     "execution_count": 31,
     "metadata": {},
     "output_type": "execute_result"
    }
   ],
   "source": [
    "type(string1)"
   ]
  },
  {
   "cell_type": "markdown",
   "id": "72fa7e2a-1dde-47aa-abf2-82230e148be9",
   "metadata": {},
   "source": [
    "# APPEND"
   ]
  },
  {
   "cell_type": "code",
   "execution_count": 32,
   "id": "0cddfa71-645f-40cb-a159-c0abc6bfe7d7",
   "metadata": {},
   "outputs": [
    {
     "data": {
      "text/plain": [
       "[1, 2, 3, 4, 5, 6]"
      ]
     },
     "execution_count": 32,
     "metadata": {},
     "output_type": "execute_result"
    }
   ],
   "source": [
    "a = [1,2,3]\n",
    "b = [4,5,6]\n",
    "\n",
    "a + b"
   ]
  },
  {
   "cell_type": "markdown",
   "id": "89e46010-7f2f-409d-93ca-2310a0092639",
   "metadata": {},
   "source": [
    "# ROUND"
   ]
  },
  {
   "cell_type": "code",
   "execution_count": 39,
   "id": "6ca05234-76c7-4f77-8fc8-51289fac180b",
   "metadata": {},
   "outputs": [
    {
     "name": "stdout",
     "output_type": "stream",
     "text": [
      "17.66\n"
     ]
    }
   ],
   "source": [
    "print (round(17.656464646, 2))\n"
   ]
  },
  {
   "cell_type": "code",
   "execution_count": null,
   "id": "d94c3fec-601b-4a8f-b35d-d48e6dc28979",
   "metadata": {},
   "outputs": [],
   "source": []
  }
 ],
 "metadata": {
  "kernelspec": {
   "display_name": "Python 3 (ipykernel)",
   "language": "python",
   "name": "python3"
  },
  "language_info": {
   "codemirror_mode": {
    "name": "ipython",
    "version": 3
   },
   "file_extension": ".py",
   "mimetype": "text/x-python",
   "name": "python",
   "nbconvert_exporter": "python",
   "pygments_lexer": "ipython3",
   "version": "3.11.7"
  }
 },
 "nbformat": 4,
 "nbformat_minor": 5
}
