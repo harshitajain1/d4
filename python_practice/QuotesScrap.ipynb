{
 "cells": [
  {
   "cell_type": "code",
   "execution_count": 89,
   "metadata": {},
   "outputs": [],
   "source": [
    "import requests as rq   \n",
    "\n",
    "from bs4 import BeautifulSoup \n",
    "\n",
    "from bs4.element import NavigableString\n",
    "\n",
    "url = 'https://quotes.toscrape.com/'"
   ]
  },
  {
   "cell_type": "code",
   "execution_count": 52,
   "metadata": {},
   "outputs": [
    {
     "data": {
      "text/plain": [
       "b'<!DOCTYPE html>\\n<html lang=\"en\">\\n<head>\\n\\t<meta charset=\"UTF-8\">\\n\\t<title>Quotes to Scrape</title>\\n    <link rel=\"stylesheet\" href=\"/static/bootstrap.min.css\">\\n    <link rel=\"stylesheet\" href=\"/static/main.css\">\\n</head>\\n<body>\\n    <div class=\"container\">\\n        <div class=\"row header-box\">\\n            <div class=\"col-md-8\">\\n                <h1>\\n                    <a href=\"/\" style=\"text-decoration: none\">Quotes to Scrape</a>\\n                </h1>\\n            </div>\\n            <div class=\"col-md-4\">\\n                <p>\\n                \\n                    <a href=\"/login\">Login</a>\\n                \\n                </p>\\n            </div>\\n        </div>\\n    \\n\\n<div class=\"row\">\\n    <div class=\"col-md-8\">\\n\\n    <div class=\"quote\" itemscope itemtype=\"http://schema.org/CreativeWork\">\\n        <span class=\"text\" itemprop=\"text\">\\xe2\\x80\\x9cThe world as we have created it is a process of our thinking. It cannot be changed without changing our thinking.\\xe2\\x80\\x9d</span>\\n        <span>by <small class=\"author\" itemprop=\"author\">Albert Einstein</small>\\n        <a href=\"/author/Albert-Einstein\">(about)</a>\\n        </span>\\n        <div class=\"tags\">\\n            Tags:\\n            <meta class=\"keywords\" itemprop=\"keywords\" content=\"change,deep-thoughts,thinking,world\" /    > \\n            \\n            <a class=\"tag\" href=\"/tag/change/page/1/\">change</a>\\n            \\n            <a class=\"tag\" href=\"/tag/deep-thoughts/page/1/\">deep-thoughts</a>\\n            \\n            <a class=\"tag\" href=\"/tag/thinking/page/1/\">thinking</a>\\n            \\n            <a class=\"tag\" href=\"/tag/world/page/1/\">world</a>\\n            \\n        </div>\\n    </div>\\n\\n    <div class=\"quote\" itemscope itemtype=\"http://schema.org/CreativeWork\">\\n        <span class=\"text\" itemprop=\"text\">\\xe2\\x80\\x9cIt is our choices, Harry, that show what we truly are, far more than our abilities.\\xe2\\x80\\x9d</span>\\n        <span>by <small class=\"author\" itemprop=\"author\">J.K. Rowling</small>\\n        <a href=\"/author/J-K-Rowling\">(about)</a>\\n        </span>\\n        <div class=\"tags\">\\n            Tags:\\n            <meta class=\"keywords\" itemprop=\"keywords\" content=\"abilities,choices\" /    > \\n            \\n            <a class=\"tag\" href=\"/tag/abilities/page/1/\">abilities</a>\\n            \\n            <a class=\"tag\" href=\"/tag/choices/page/1/\">choices</a>\\n            \\n        </div>\\n    </div>\\n\\n    <div class=\"quote\" itemscope itemtype=\"http://schema.org/CreativeWork\">\\n        <span class=\"text\" itemprop=\"text\">\\xe2\\x80\\x9cThere are only two ways to live your life. One is as though nothing is a miracle. The other is as though everything is a miracle.\\xe2\\x80\\x9d</span>\\n        <span>by <small class=\"author\" itemprop=\"author\">Albert Einstein</small>\\n        <a href=\"/author/Albert-Einstein\">(about)</a>\\n        </span>\\n        <div class=\"tags\">\\n            Tags:\\n            <meta class=\"keywords\" itemprop=\"keywords\" content=\"inspirational,life,live,miracle,miracles\" /    > \\n            \\n            <a class=\"tag\" href=\"/tag/inspirational/page/1/\">inspirational</a>\\n            \\n            <a class=\"tag\" href=\"/tag/life/page/1/\">life</a>\\n            \\n            <a class=\"tag\" href=\"/tag/live/page/1/\">live</a>\\n            \\n            <a class=\"tag\" href=\"/tag/miracle/page/1/\">miracle</a>\\n            \\n            <a class=\"tag\" href=\"/tag/miracles/page/1/\">miracles</a>\\n            \\n        </div>\\n    </div>\\n\\n    <div class=\"quote\" itemscope itemtype=\"http://schema.org/CreativeWork\">\\n        <span class=\"text\" itemprop=\"text\">\\xe2\\x80\\x9cThe person, be it gentleman or lady, who has not pleasure in a good novel, must be intolerably stupid.\\xe2\\x80\\x9d</span>\\n        <span>by <small class=\"author\" itemprop=\"author\">Jane Austen</small>\\n        <a href=\"/author/Jane-Austen\">(about)</a>\\n        </span>\\n        <div class=\"tags\">\\n            Tags:\\n            <meta class=\"keywords\" itemprop=\"keywords\" content=\"aliteracy,books,classic,humor\" /    > \\n            \\n            <a class=\"tag\" href=\"/tag/aliteracy/page/1/\">aliteracy</a>\\n            \\n            <a class=\"tag\" href=\"/tag/books/page/1/\">books</a>\\n            \\n            <a class=\"tag\" href=\"/tag/classic/page/1/\">classic</a>\\n            \\n            <a class=\"tag\" href=\"/tag/humor/page/1/\">humor</a>\\n            \\n        </div>\\n    </div>\\n\\n    <div class=\"quote\" itemscope itemtype=\"http://schema.org/CreativeWork\">\\n        <span class=\"text\" itemprop=\"text\">\\xe2\\x80\\x9cImperfection is beauty, madness is genius and it&#39;s better to be absolutely ridiculous than absolutely boring.\\xe2\\x80\\x9d</span>\\n        <span>by <small class=\"author\" itemprop=\"author\">Marilyn Monroe</small>\\n        <a href=\"/author/Marilyn-Monroe\">(about)</a>\\n        </span>\\n        <div class=\"tags\">\\n            Tags:\\n            <meta class=\"keywords\" itemprop=\"keywords\" content=\"be-yourself,inspirational\" /    > \\n            \\n            <a class=\"tag\" href=\"/tag/be-yourself/page/1/\">be-yourself</a>\\n            \\n            <a class=\"tag\" href=\"/tag/inspirational/page/1/\">inspirational</a>\\n            \\n        </div>\\n    </div>\\n\\n    <div class=\"quote\" itemscope itemtype=\"http://schema.org/CreativeWork\">\\n        <span class=\"text\" itemprop=\"text\">\\xe2\\x80\\x9cTry not to become a man of success. Rather become a man of value.\\xe2\\x80\\x9d</span>\\n        <span>by <small class=\"author\" itemprop=\"author\">Albert Einstein</small>\\n        <a href=\"/author/Albert-Einstein\">(about)</a>\\n        </span>\\n        <div class=\"tags\">\\n            Tags:\\n            <meta class=\"keywords\" itemprop=\"keywords\" content=\"adulthood,success,value\" /    > \\n            \\n            <a class=\"tag\" href=\"/tag/adulthood/page/1/\">adulthood</a>\\n            \\n            <a class=\"tag\" href=\"/tag/success/page/1/\">success</a>\\n            \\n            <a class=\"tag\" href=\"/tag/value/page/1/\">value</a>\\n            \\n        </div>\\n    </div>\\n\\n    <div class=\"quote\" itemscope itemtype=\"http://schema.org/CreativeWork\">\\n        <span class=\"text\" itemprop=\"text\">\\xe2\\x80\\x9cIt is better to be hated for what you are than to be loved for what you are not.\\xe2\\x80\\x9d</span>\\n        <span>by <small class=\"author\" itemprop=\"author\">Andr\\xc3\\xa9 Gide</small>\\n        <a href=\"/author/Andre-Gide\">(about)</a>\\n        </span>\\n        <div class=\"tags\">\\n            Tags:\\n            <meta class=\"keywords\" itemprop=\"keywords\" content=\"life,love\" /    > \\n            \\n            <a class=\"tag\" href=\"/tag/life/page/1/\">life</a>\\n            \\n            <a class=\"tag\" href=\"/tag/love/page/1/\">love</a>\\n            \\n        </div>\\n    </div>\\n\\n    <div class=\"quote\" itemscope itemtype=\"http://schema.org/CreativeWork\">\\n        <span class=\"text\" itemprop=\"text\">\\xe2\\x80\\x9cI have not failed. I&#39;ve just found 10,000 ways that won&#39;t work.\\xe2\\x80\\x9d</span>\\n        <span>by <small class=\"author\" itemprop=\"author\">Thomas A. Edison</small>\\n        <a href=\"/author/Thomas-A-Edison\">(about)</a>\\n        </span>\\n        <div class=\"tags\">\\n            Tags:\\n            <meta class=\"keywords\" itemprop=\"keywords\" content=\"edison,failure,inspirational,paraphrased\" /    > \\n            \\n            <a class=\"tag\" href=\"/tag/edison/page/1/\">edison</a>\\n            \\n            <a class=\"tag\" href=\"/tag/failure/page/1/\">failure</a>\\n            \\n            <a class=\"tag\" href=\"/tag/inspirational/page/1/\">inspirational</a>\\n            \\n            <a class=\"tag\" href=\"/tag/paraphrased/page/1/\">paraphrased</a>\\n            \\n        </div>\\n    </div>\\n\\n    <div class=\"quote\" itemscope itemtype=\"http://schema.org/CreativeWork\">\\n        <span class=\"text\" itemprop=\"text\">\\xe2\\x80\\x9cA woman is like a tea bag; you never know how strong it is until it&#39;s in hot water.\\xe2\\x80\\x9d</span>\\n        <span>by <small class=\"author\" itemprop=\"author\">Eleanor Roosevelt</small>\\n        <a href=\"/author/Eleanor-Roosevelt\">(about)</a>\\n        </span>\\n        <div class=\"tags\">\\n            Tags:\\n            <meta class=\"keywords\" itemprop=\"keywords\" content=\"misattributed-eleanor-roosevelt\" /    > \\n            \\n            <a class=\"tag\" href=\"/tag/misattributed-eleanor-roosevelt/page/1/\">misattributed-eleanor-roosevelt</a>\\n            \\n        </div>\\n    </div>\\n\\n    <div class=\"quote\" itemscope itemtype=\"http://schema.org/CreativeWork\">\\n        <span class=\"text\" itemprop=\"text\">\\xe2\\x80\\x9cA day without sunshine is like, you know, night.\\xe2\\x80\\x9d</span>\\n        <span>by <small class=\"author\" itemprop=\"author\">Steve Martin</small>\\n        <a href=\"/author/Steve-Martin\">(about)</a>\\n        </span>\\n        <div class=\"tags\">\\n            Tags:\\n            <meta class=\"keywords\" itemprop=\"keywords\" content=\"humor,obvious,simile\" /    > \\n            \\n            <a class=\"tag\" href=\"/tag/humor/page/1/\">humor</a>\\n            \\n            <a class=\"tag\" href=\"/tag/obvious/page/1/\">obvious</a>\\n            \\n            <a class=\"tag\" href=\"/tag/simile/page/1/\">simile</a>\\n            \\n        </div>\\n    </div>\\n\\n    <nav>\\n        <ul class=\"pager\">\\n            \\n            \\n            <li class=\"next\">\\n                <a href=\"/page/2/\">Next <span aria-hidden=\"true\">&rarr;</span></a>\\n            </li>\\n            \\n        </ul>\\n    </nav>\\n    </div>\\n    <div class=\"col-md-4 tags-box\">\\n        \\n            <h2>Top Ten tags</h2>\\n            \\n            <span class=\"tag-item\">\\n            <a class=\"tag\" style=\"font-size: 28px\" href=\"/tag/love/\">love</a>\\n            </span>\\n            \\n            <span class=\"tag-item\">\\n            <a class=\"tag\" style=\"font-size: 26px\" href=\"/tag/inspirational/\">inspirational</a>\\n            </span>\\n            \\n            <span class=\"tag-item\">\\n            <a class=\"tag\" style=\"font-size: 26px\" href=\"/tag/life/\">life</a>\\n            </span>\\n            \\n            <span class=\"tag-item\">\\n            <a class=\"tag\" style=\"font-size: 24px\" href=\"/tag/humor/\">humor</a>\\n            </span>\\n            \\n            <span class=\"tag-item\">\\n            <a class=\"tag\" style=\"font-size: 22px\" href=\"/tag/books/\">books</a>\\n            </span>\\n            \\n            <span class=\"tag-item\">\\n            <a class=\"tag\" style=\"font-size: 14px\" href=\"/tag/reading/\">reading</a>\\n            </span>\\n            \\n            <span class=\"tag-item\">\\n            <a class=\"tag\" style=\"font-size: 10px\" href=\"/tag/friendship/\">friendship</a>\\n            </span>\\n            \\n            <span class=\"tag-item\">\\n            <a class=\"tag\" style=\"font-size: 8px\" href=\"/tag/friends/\">friends</a>\\n            </span>\\n            \\n            <span class=\"tag-item\">\\n            <a class=\"tag\" style=\"font-size: 8px\" href=\"/tag/truth/\">truth</a>\\n            </span>\\n            \\n            <span class=\"tag-item\">\\n            <a class=\"tag\" style=\"font-size: 6px\" href=\"/tag/simile/\">simile</a>\\n            </span>\\n            \\n        \\n    </div>\\n</div>\\n\\n    </div>\\n    <footer class=\"footer\">\\n        <div class=\"container\">\\n            <p class=\"text-muted\">\\n                Quotes by: <a href=\"https://www.goodreads.com/quotes\">GoodReads.com</a>\\n            </p>\\n            <p class=\"copyright\">\\n                Made with <span class=\\'zyte\\'>\\xe2\\x9d\\xa4</span> by <a class=\\'zyte\\' href=\"https://www.zyte.com\">Zyte</a>\\n            </p>\\n        </div>\\n    </footer>\\n</body>\\n</html>'"
      ]
     },
     "execution_count": 52,
     "metadata": {},
     "output_type": "execute_result"
    }
   ],
   "source": [
    "Qresp = rq.get(url)\n",
    "\n",
    "Qresp.content"
   ]
  },
  {
   "cell_type": "code",
   "execution_count": 53,
   "metadata": {},
   "outputs": [],
   "source": [
    "bSoup = BeautifulSoup(Qresp.content , 'html.parser')"
   ]
  },
  {
   "cell_type": "code",
   "execution_count": 54,
   "metadata": {},
   "outputs": [
    {
     "data": {
      "text/plain": [
       "<!DOCTYPE html>\n",
       "\n",
       "<html lang=\"en\">\n",
       "<head>\n",
       "<meta charset=\"utf-8\"/>\n",
       "<title>Quotes to Scrape</title>\n",
       "<link href=\"/static/bootstrap.min.css\" rel=\"stylesheet\"/>\n",
       "<link href=\"/static/main.css\" rel=\"stylesheet\"/>\n",
       "</head>\n",
       "<body>\n",
       "<div class=\"container\">\n",
       "<div class=\"row header-box\">\n",
       "<div class=\"col-md-8\">\n",
       "<h1>\n",
       "<a href=\"/\" style=\"text-decoration: none\">Quotes to Scrape</a>\n",
       "</h1>\n",
       "</div>\n",
       "<div class=\"col-md-4\">\n",
       "<p>\n",
       "<a href=\"/login\">Login</a>\n",
       "</p>\n",
       "</div>\n",
       "</div>\n",
       "<div class=\"row\">\n",
       "<div class=\"col-md-8\">\n",
       "<div class=\"quote\" itemscope=\"\" itemtype=\"http://schema.org/CreativeWork\">\n",
       "<span class=\"text\" itemprop=\"text\">“The world as we have created it is a process of our thinking. It cannot be changed without changing our thinking.”</span>\n",
       "<span>by <small class=\"author\" itemprop=\"author\">Albert Einstein</small>\n",
       "<a href=\"/author/Albert-Einstein\">(about)</a>\n",
       "</span>\n",
       "<div class=\"tags\">\n",
       "            Tags:\n",
       "            <meta class=\"keywords\" content=\"change,deep-thoughts,thinking,world\" itemprop=\"keywords\"/>\n",
       "<a class=\"tag\" href=\"/tag/change/page/1/\">change</a>\n",
       "<a class=\"tag\" href=\"/tag/deep-thoughts/page/1/\">deep-thoughts</a>\n",
       "<a class=\"tag\" href=\"/tag/thinking/page/1/\">thinking</a>\n",
       "<a class=\"tag\" href=\"/tag/world/page/1/\">world</a>\n",
       "</div>\n",
       "</div>\n",
       "<div class=\"quote\" itemscope=\"\" itemtype=\"http://schema.org/CreativeWork\">\n",
       "<span class=\"text\" itemprop=\"text\">“It is our choices, Harry, that show what we truly are, far more than our abilities.”</span>\n",
       "<span>by <small class=\"author\" itemprop=\"author\">J.K. Rowling</small>\n",
       "<a href=\"/author/J-K-Rowling\">(about)</a>\n",
       "</span>\n",
       "<div class=\"tags\">\n",
       "            Tags:\n",
       "            <meta class=\"keywords\" content=\"abilities,choices\" itemprop=\"keywords\"/>\n",
       "<a class=\"tag\" href=\"/tag/abilities/page/1/\">abilities</a>\n",
       "<a class=\"tag\" href=\"/tag/choices/page/1/\">choices</a>\n",
       "</div>\n",
       "</div>\n",
       "<div class=\"quote\" itemscope=\"\" itemtype=\"http://schema.org/CreativeWork\">\n",
       "<span class=\"text\" itemprop=\"text\">“There are only two ways to live your life. One is as though nothing is a miracle. The other is as though everything is a miracle.”</span>\n",
       "<span>by <small class=\"author\" itemprop=\"author\">Albert Einstein</small>\n",
       "<a href=\"/author/Albert-Einstein\">(about)</a>\n",
       "</span>\n",
       "<div class=\"tags\">\n",
       "            Tags:\n",
       "            <meta class=\"keywords\" content=\"inspirational,life,live,miracle,miracles\" itemprop=\"keywords\"/>\n",
       "<a class=\"tag\" href=\"/tag/inspirational/page/1/\">inspirational</a>\n",
       "<a class=\"tag\" href=\"/tag/life/page/1/\">life</a>\n",
       "<a class=\"tag\" href=\"/tag/live/page/1/\">live</a>\n",
       "<a class=\"tag\" href=\"/tag/miracle/page/1/\">miracle</a>\n",
       "<a class=\"tag\" href=\"/tag/miracles/page/1/\">miracles</a>\n",
       "</div>\n",
       "</div>\n",
       "<div class=\"quote\" itemscope=\"\" itemtype=\"http://schema.org/CreativeWork\">\n",
       "<span class=\"text\" itemprop=\"text\">“The person, be it gentleman or lady, who has not pleasure in a good novel, must be intolerably stupid.”</span>\n",
       "<span>by <small class=\"author\" itemprop=\"author\">Jane Austen</small>\n",
       "<a href=\"/author/Jane-Austen\">(about)</a>\n",
       "</span>\n",
       "<div class=\"tags\">\n",
       "            Tags:\n",
       "            <meta class=\"keywords\" content=\"aliteracy,books,classic,humor\" itemprop=\"keywords\"/>\n",
       "<a class=\"tag\" href=\"/tag/aliteracy/page/1/\">aliteracy</a>\n",
       "<a class=\"tag\" href=\"/tag/books/page/1/\">books</a>\n",
       "<a class=\"tag\" href=\"/tag/classic/page/1/\">classic</a>\n",
       "<a class=\"tag\" href=\"/tag/humor/page/1/\">humor</a>\n",
       "</div>\n",
       "</div>\n",
       "<div class=\"quote\" itemscope=\"\" itemtype=\"http://schema.org/CreativeWork\">\n",
       "<span class=\"text\" itemprop=\"text\">“Imperfection is beauty, madness is genius and it's better to be absolutely ridiculous than absolutely boring.”</span>\n",
       "<span>by <small class=\"author\" itemprop=\"author\">Marilyn Monroe</small>\n",
       "<a href=\"/author/Marilyn-Monroe\">(about)</a>\n",
       "</span>\n",
       "<div class=\"tags\">\n",
       "            Tags:\n",
       "            <meta class=\"keywords\" content=\"be-yourself,inspirational\" itemprop=\"keywords\"/>\n",
       "<a class=\"tag\" href=\"/tag/be-yourself/page/1/\">be-yourself</a>\n",
       "<a class=\"tag\" href=\"/tag/inspirational/page/1/\">inspirational</a>\n",
       "</div>\n",
       "</div>\n",
       "<div class=\"quote\" itemscope=\"\" itemtype=\"http://schema.org/CreativeWork\">\n",
       "<span class=\"text\" itemprop=\"text\">“Try not to become a man of success. Rather become a man of value.”</span>\n",
       "<span>by <small class=\"author\" itemprop=\"author\">Albert Einstein</small>\n",
       "<a href=\"/author/Albert-Einstein\">(about)</a>\n",
       "</span>\n",
       "<div class=\"tags\">\n",
       "            Tags:\n",
       "            <meta class=\"keywords\" content=\"adulthood,success,value\" itemprop=\"keywords\"/>\n",
       "<a class=\"tag\" href=\"/tag/adulthood/page/1/\">adulthood</a>\n",
       "<a class=\"tag\" href=\"/tag/success/page/1/\">success</a>\n",
       "<a class=\"tag\" href=\"/tag/value/page/1/\">value</a>\n",
       "</div>\n",
       "</div>\n",
       "<div class=\"quote\" itemscope=\"\" itemtype=\"http://schema.org/CreativeWork\">\n",
       "<span class=\"text\" itemprop=\"text\">“It is better to be hated for what you are than to be loved for what you are not.”</span>\n",
       "<span>by <small class=\"author\" itemprop=\"author\">André Gide</small>\n",
       "<a href=\"/author/Andre-Gide\">(about)</a>\n",
       "</span>\n",
       "<div class=\"tags\">\n",
       "            Tags:\n",
       "            <meta class=\"keywords\" content=\"life,love\" itemprop=\"keywords\"/>\n",
       "<a class=\"tag\" href=\"/tag/life/page/1/\">life</a>\n",
       "<a class=\"tag\" href=\"/tag/love/page/1/\">love</a>\n",
       "</div>\n",
       "</div>\n",
       "<div class=\"quote\" itemscope=\"\" itemtype=\"http://schema.org/CreativeWork\">\n",
       "<span class=\"text\" itemprop=\"text\">“I have not failed. I've just found 10,000 ways that won't work.”</span>\n",
       "<span>by <small class=\"author\" itemprop=\"author\">Thomas A. Edison</small>\n",
       "<a href=\"/author/Thomas-A-Edison\">(about)</a>\n",
       "</span>\n",
       "<div class=\"tags\">\n",
       "            Tags:\n",
       "            <meta class=\"keywords\" content=\"edison,failure,inspirational,paraphrased\" itemprop=\"keywords\"/>\n",
       "<a class=\"tag\" href=\"/tag/edison/page/1/\">edison</a>\n",
       "<a class=\"tag\" href=\"/tag/failure/page/1/\">failure</a>\n",
       "<a class=\"tag\" href=\"/tag/inspirational/page/1/\">inspirational</a>\n",
       "<a class=\"tag\" href=\"/tag/paraphrased/page/1/\">paraphrased</a>\n",
       "</div>\n",
       "</div>\n",
       "<div class=\"quote\" itemscope=\"\" itemtype=\"http://schema.org/CreativeWork\">\n",
       "<span class=\"text\" itemprop=\"text\">“A woman is like a tea bag; you never know how strong it is until it's in hot water.”</span>\n",
       "<span>by <small class=\"author\" itemprop=\"author\">Eleanor Roosevelt</small>\n",
       "<a href=\"/author/Eleanor-Roosevelt\">(about)</a>\n",
       "</span>\n",
       "<div class=\"tags\">\n",
       "            Tags:\n",
       "            <meta class=\"keywords\" content=\"misattributed-eleanor-roosevelt\" itemprop=\"keywords\"/>\n",
       "<a class=\"tag\" href=\"/tag/misattributed-eleanor-roosevelt/page/1/\">misattributed-eleanor-roosevelt</a>\n",
       "</div>\n",
       "</div>\n",
       "<div class=\"quote\" itemscope=\"\" itemtype=\"http://schema.org/CreativeWork\">\n",
       "<span class=\"text\" itemprop=\"text\">“A day without sunshine is like, you know, night.”</span>\n",
       "<span>by <small class=\"author\" itemprop=\"author\">Steve Martin</small>\n",
       "<a href=\"/author/Steve-Martin\">(about)</a>\n",
       "</span>\n",
       "<div class=\"tags\">\n",
       "            Tags:\n",
       "            <meta class=\"keywords\" content=\"humor,obvious,simile\" itemprop=\"keywords\"/>\n",
       "<a class=\"tag\" href=\"/tag/humor/page/1/\">humor</a>\n",
       "<a class=\"tag\" href=\"/tag/obvious/page/1/\">obvious</a>\n",
       "<a class=\"tag\" href=\"/tag/simile/page/1/\">simile</a>\n",
       "</div>\n",
       "</div>\n",
       "<nav>\n",
       "<ul class=\"pager\">\n",
       "<li class=\"next\">\n",
       "<a href=\"/page/2/\">Next <span aria-hidden=\"true\">→</span></a>\n",
       "</li>\n",
       "</ul>\n",
       "</nav>\n",
       "</div>\n",
       "<div class=\"col-md-4 tags-box\">\n",
       "<h2>Top Ten tags</h2>\n",
       "<span class=\"tag-item\">\n",
       "<a class=\"tag\" href=\"/tag/love/\" style=\"font-size: 28px\">love</a>\n",
       "</span>\n",
       "<span class=\"tag-item\">\n",
       "<a class=\"tag\" href=\"/tag/inspirational/\" style=\"font-size: 26px\">inspirational</a>\n",
       "</span>\n",
       "<span class=\"tag-item\">\n",
       "<a class=\"tag\" href=\"/tag/life/\" style=\"font-size: 26px\">life</a>\n",
       "</span>\n",
       "<span class=\"tag-item\">\n",
       "<a class=\"tag\" href=\"/tag/humor/\" style=\"font-size: 24px\">humor</a>\n",
       "</span>\n",
       "<span class=\"tag-item\">\n",
       "<a class=\"tag\" href=\"/tag/books/\" style=\"font-size: 22px\">books</a>\n",
       "</span>\n",
       "<span class=\"tag-item\">\n",
       "<a class=\"tag\" href=\"/tag/reading/\" style=\"font-size: 14px\">reading</a>\n",
       "</span>\n",
       "<span class=\"tag-item\">\n",
       "<a class=\"tag\" href=\"/tag/friendship/\" style=\"font-size: 10px\">friendship</a>\n",
       "</span>\n",
       "<span class=\"tag-item\">\n",
       "<a class=\"tag\" href=\"/tag/friends/\" style=\"font-size: 8px\">friends</a>\n",
       "</span>\n",
       "<span class=\"tag-item\">\n",
       "<a class=\"tag\" href=\"/tag/truth/\" style=\"font-size: 8px\">truth</a>\n",
       "</span>\n",
       "<span class=\"tag-item\">\n",
       "<a class=\"tag\" href=\"/tag/simile/\" style=\"font-size: 6px\">simile</a>\n",
       "</span>\n",
       "</div>\n",
       "</div>\n",
       "</div>\n",
       "<footer class=\"footer\">\n",
       "<div class=\"container\">\n",
       "<p class=\"text-muted\">\n",
       "                Quotes by: <a href=\"https://www.goodreads.com/quotes\">GoodReads.com</a>\n",
       "</p>\n",
       "<p class=\"copyright\">\n",
       "                Made with <span class=\"zyte\">❤</span> by <a class=\"zyte\" href=\"https://www.zyte.com\">Zyte</a>\n",
       "</p>\n",
       "</div>\n",
       "</footer>\n",
       "</body>\n",
       "</html>"
      ]
     },
     "execution_count": 54,
     "metadata": {},
     "output_type": "execute_result"
    }
   ],
   "source": [
    "bSoup"
   ]
  },
  {
   "cell_type": "code",
   "execution_count": 55,
   "metadata": {},
   "outputs": [
    {
     "data": {
      "text/plain": [
       "bs4.BeautifulSoup"
      ]
     },
     "execution_count": 55,
     "metadata": {},
     "output_type": "execute_result"
    }
   ],
   "source": [
    "type(bSoup)"
   ]
  },
  {
   "cell_type": "code",
   "execution_count": 56,
   "metadata": {},
   "outputs": [
    {
     "data": {
      "text/plain": [
       "<title>Quotes to Scrape</title>"
      ]
     },
     "execution_count": 56,
     "metadata": {},
     "output_type": "execute_result"
    }
   ],
   "source": [
    "bSoup.title"
   ]
  },
  {
   "cell_type": "code",
   "execution_count": 57,
   "metadata": {},
   "outputs": [
    {
     "data": {
      "text/plain": [
       "'Quotes to Scrape'"
      ]
     },
     "execution_count": 57,
     "metadata": {},
     "output_type": "execute_result"
    }
   ],
   "source": [
    "bSoup.title.text"
   ]
  },
  {
   "cell_type": "code",
   "execution_count": 58,
   "metadata": {},
   "outputs": [
    {
     "data": {
      "text/plain": [
       "<h1>\n",
       "<a href=\"/\" style=\"text-decoration: none\">Quotes to Scrape</a>\n",
       "</h1>"
      ]
     },
     "execution_count": 58,
     "metadata": {},
     "output_type": "execute_result"
    }
   ],
   "source": [
    "bSoup.h1"
   ]
  },
  {
   "cell_type": "code",
   "execution_count": 59,
   "metadata": {},
   "outputs": [
    {
     "data": {
      "text/plain": [
       "<div class=\"container\">\n",
       "<div class=\"row header-box\">\n",
       "<div class=\"col-md-8\">\n",
       "<h1>\n",
       "<a href=\"/\" style=\"text-decoration: none\">Quotes to Scrape</a>\n",
       "</h1>\n",
       "</div>\n",
       "<div class=\"col-md-4\">\n",
       "<p>\n",
       "<a href=\"/login\">Login</a>\n",
       "</p>\n",
       "</div>\n",
       "</div>\n",
       "<div class=\"row\">\n",
       "<div class=\"col-md-8\">\n",
       "<div class=\"quote\" itemscope=\"\" itemtype=\"http://schema.org/CreativeWork\">\n",
       "<span class=\"text\" itemprop=\"text\">“The world as we have created it is a process of our thinking. It cannot be changed without changing our thinking.”</span>\n",
       "<span>by <small class=\"author\" itemprop=\"author\">Albert Einstein</small>\n",
       "<a href=\"/author/Albert-Einstein\">(about)</a>\n",
       "</span>\n",
       "<div class=\"tags\">\n",
       "            Tags:\n",
       "            <meta class=\"keywords\" content=\"change,deep-thoughts,thinking,world\" itemprop=\"keywords\"/>\n",
       "<a class=\"tag\" href=\"/tag/change/page/1/\">change</a>\n",
       "<a class=\"tag\" href=\"/tag/deep-thoughts/page/1/\">deep-thoughts</a>\n",
       "<a class=\"tag\" href=\"/tag/thinking/page/1/\">thinking</a>\n",
       "<a class=\"tag\" href=\"/tag/world/page/1/\">world</a>\n",
       "</div>\n",
       "</div>\n",
       "<div class=\"quote\" itemscope=\"\" itemtype=\"http://schema.org/CreativeWork\">\n",
       "<span class=\"text\" itemprop=\"text\">“It is our choices, Harry, that show what we truly are, far more than our abilities.”</span>\n",
       "<span>by <small class=\"author\" itemprop=\"author\">J.K. Rowling</small>\n",
       "<a href=\"/author/J-K-Rowling\">(about)</a>\n",
       "</span>\n",
       "<div class=\"tags\">\n",
       "            Tags:\n",
       "            <meta class=\"keywords\" content=\"abilities,choices\" itemprop=\"keywords\"/>\n",
       "<a class=\"tag\" href=\"/tag/abilities/page/1/\">abilities</a>\n",
       "<a class=\"tag\" href=\"/tag/choices/page/1/\">choices</a>\n",
       "</div>\n",
       "</div>\n",
       "<div class=\"quote\" itemscope=\"\" itemtype=\"http://schema.org/CreativeWork\">\n",
       "<span class=\"text\" itemprop=\"text\">“There are only two ways to live your life. One is as though nothing is a miracle. The other is as though everything is a miracle.”</span>\n",
       "<span>by <small class=\"author\" itemprop=\"author\">Albert Einstein</small>\n",
       "<a href=\"/author/Albert-Einstein\">(about)</a>\n",
       "</span>\n",
       "<div class=\"tags\">\n",
       "            Tags:\n",
       "            <meta class=\"keywords\" content=\"inspirational,life,live,miracle,miracles\" itemprop=\"keywords\"/>\n",
       "<a class=\"tag\" href=\"/tag/inspirational/page/1/\">inspirational</a>\n",
       "<a class=\"tag\" href=\"/tag/life/page/1/\">life</a>\n",
       "<a class=\"tag\" href=\"/tag/live/page/1/\">live</a>\n",
       "<a class=\"tag\" href=\"/tag/miracle/page/1/\">miracle</a>\n",
       "<a class=\"tag\" href=\"/tag/miracles/page/1/\">miracles</a>\n",
       "</div>\n",
       "</div>\n",
       "<div class=\"quote\" itemscope=\"\" itemtype=\"http://schema.org/CreativeWork\">\n",
       "<span class=\"text\" itemprop=\"text\">“The person, be it gentleman or lady, who has not pleasure in a good novel, must be intolerably stupid.”</span>\n",
       "<span>by <small class=\"author\" itemprop=\"author\">Jane Austen</small>\n",
       "<a href=\"/author/Jane-Austen\">(about)</a>\n",
       "</span>\n",
       "<div class=\"tags\">\n",
       "            Tags:\n",
       "            <meta class=\"keywords\" content=\"aliteracy,books,classic,humor\" itemprop=\"keywords\"/>\n",
       "<a class=\"tag\" href=\"/tag/aliteracy/page/1/\">aliteracy</a>\n",
       "<a class=\"tag\" href=\"/tag/books/page/1/\">books</a>\n",
       "<a class=\"tag\" href=\"/tag/classic/page/1/\">classic</a>\n",
       "<a class=\"tag\" href=\"/tag/humor/page/1/\">humor</a>\n",
       "</div>\n",
       "</div>\n",
       "<div class=\"quote\" itemscope=\"\" itemtype=\"http://schema.org/CreativeWork\">\n",
       "<span class=\"text\" itemprop=\"text\">“Imperfection is beauty, madness is genius and it's better to be absolutely ridiculous than absolutely boring.”</span>\n",
       "<span>by <small class=\"author\" itemprop=\"author\">Marilyn Monroe</small>\n",
       "<a href=\"/author/Marilyn-Monroe\">(about)</a>\n",
       "</span>\n",
       "<div class=\"tags\">\n",
       "            Tags:\n",
       "            <meta class=\"keywords\" content=\"be-yourself,inspirational\" itemprop=\"keywords\"/>\n",
       "<a class=\"tag\" href=\"/tag/be-yourself/page/1/\">be-yourself</a>\n",
       "<a class=\"tag\" href=\"/tag/inspirational/page/1/\">inspirational</a>\n",
       "</div>\n",
       "</div>\n",
       "<div class=\"quote\" itemscope=\"\" itemtype=\"http://schema.org/CreativeWork\">\n",
       "<span class=\"text\" itemprop=\"text\">“Try not to become a man of success. Rather become a man of value.”</span>\n",
       "<span>by <small class=\"author\" itemprop=\"author\">Albert Einstein</small>\n",
       "<a href=\"/author/Albert-Einstein\">(about)</a>\n",
       "</span>\n",
       "<div class=\"tags\">\n",
       "            Tags:\n",
       "            <meta class=\"keywords\" content=\"adulthood,success,value\" itemprop=\"keywords\"/>\n",
       "<a class=\"tag\" href=\"/tag/adulthood/page/1/\">adulthood</a>\n",
       "<a class=\"tag\" href=\"/tag/success/page/1/\">success</a>\n",
       "<a class=\"tag\" href=\"/tag/value/page/1/\">value</a>\n",
       "</div>\n",
       "</div>\n",
       "<div class=\"quote\" itemscope=\"\" itemtype=\"http://schema.org/CreativeWork\">\n",
       "<span class=\"text\" itemprop=\"text\">“It is better to be hated for what you are than to be loved for what you are not.”</span>\n",
       "<span>by <small class=\"author\" itemprop=\"author\">André Gide</small>\n",
       "<a href=\"/author/Andre-Gide\">(about)</a>\n",
       "</span>\n",
       "<div class=\"tags\">\n",
       "            Tags:\n",
       "            <meta class=\"keywords\" content=\"life,love\" itemprop=\"keywords\"/>\n",
       "<a class=\"tag\" href=\"/tag/life/page/1/\">life</a>\n",
       "<a class=\"tag\" href=\"/tag/love/page/1/\">love</a>\n",
       "</div>\n",
       "</div>\n",
       "<div class=\"quote\" itemscope=\"\" itemtype=\"http://schema.org/CreativeWork\">\n",
       "<span class=\"text\" itemprop=\"text\">“I have not failed. I've just found 10,000 ways that won't work.”</span>\n",
       "<span>by <small class=\"author\" itemprop=\"author\">Thomas A. Edison</small>\n",
       "<a href=\"/author/Thomas-A-Edison\">(about)</a>\n",
       "</span>\n",
       "<div class=\"tags\">\n",
       "            Tags:\n",
       "            <meta class=\"keywords\" content=\"edison,failure,inspirational,paraphrased\" itemprop=\"keywords\"/>\n",
       "<a class=\"tag\" href=\"/tag/edison/page/1/\">edison</a>\n",
       "<a class=\"tag\" href=\"/tag/failure/page/1/\">failure</a>\n",
       "<a class=\"tag\" href=\"/tag/inspirational/page/1/\">inspirational</a>\n",
       "<a class=\"tag\" href=\"/tag/paraphrased/page/1/\">paraphrased</a>\n",
       "</div>\n",
       "</div>\n",
       "<div class=\"quote\" itemscope=\"\" itemtype=\"http://schema.org/CreativeWork\">\n",
       "<span class=\"text\" itemprop=\"text\">“A woman is like a tea bag; you never know how strong it is until it's in hot water.”</span>\n",
       "<span>by <small class=\"author\" itemprop=\"author\">Eleanor Roosevelt</small>\n",
       "<a href=\"/author/Eleanor-Roosevelt\">(about)</a>\n",
       "</span>\n",
       "<div class=\"tags\">\n",
       "            Tags:\n",
       "            <meta class=\"keywords\" content=\"misattributed-eleanor-roosevelt\" itemprop=\"keywords\"/>\n",
       "<a class=\"tag\" href=\"/tag/misattributed-eleanor-roosevelt/page/1/\">misattributed-eleanor-roosevelt</a>\n",
       "</div>\n",
       "</div>\n",
       "<div class=\"quote\" itemscope=\"\" itemtype=\"http://schema.org/CreativeWork\">\n",
       "<span class=\"text\" itemprop=\"text\">“A day without sunshine is like, you know, night.”</span>\n",
       "<span>by <small class=\"author\" itemprop=\"author\">Steve Martin</small>\n",
       "<a href=\"/author/Steve-Martin\">(about)</a>\n",
       "</span>\n",
       "<div class=\"tags\">\n",
       "            Tags:\n",
       "            <meta class=\"keywords\" content=\"humor,obvious,simile\" itemprop=\"keywords\"/>\n",
       "<a class=\"tag\" href=\"/tag/humor/page/1/\">humor</a>\n",
       "<a class=\"tag\" href=\"/tag/obvious/page/1/\">obvious</a>\n",
       "<a class=\"tag\" href=\"/tag/simile/page/1/\">simile</a>\n",
       "</div>\n",
       "</div>\n",
       "<nav>\n",
       "<ul class=\"pager\">\n",
       "<li class=\"next\">\n",
       "<a href=\"/page/2/\">Next <span aria-hidden=\"true\">→</span></a>\n",
       "</li>\n",
       "</ul>\n",
       "</nav>\n",
       "</div>\n",
       "<div class=\"col-md-4 tags-box\">\n",
       "<h2>Top Ten tags</h2>\n",
       "<span class=\"tag-item\">\n",
       "<a class=\"tag\" href=\"/tag/love/\" style=\"font-size: 28px\">love</a>\n",
       "</span>\n",
       "<span class=\"tag-item\">\n",
       "<a class=\"tag\" href=\"/tag/inspirational/\" style=\"font-size: 26px\">inspirational</a>\n",
       "</span>\n",
       "<span class=\"tag-item\">\n",
       "<a class=\"tag\" href=\"/tag/life/\" style=\"font-size: 26px\">life</a>\n",
       "</span>\n",
       "<span class=\"tag-item\">\n",
       "<a class=\"tag\" href=\"/tag/humor/\" style=\"font-size: 24px\">humor</a>\n",
       "</span>\n",
       "<span class=\"tag-item\">\n",
       "<a class=\"tag\" href=\"/tag/books/\" style=\"font-size: 22px\">books</a>\n",
       "</span>\n",
       "<span class=\"tag-item\">\n",
       "<a class=\"tag\" href=\"/tag/reading/\" style=\"font-size: 14px\">reading</a>\n",
       "</span>\n",
       "<span class=\"tag-item\">\n",
       "<a class=\"tag\" href=\"/tag/friendship/\" style=\"font-size: 10px\">friendship</a>\n",
       "</span>\n",
       "<span class=\"tag-item\">\n",
       "<a class=\"tag\" href=\"/tag/friends/\" style=\"font-size: 8px\">friends</a>\n",
       "</span>\n",
       "<span class=\"tag-item\">\n",
       "<a class=\"tag\" href=\"/tag/truth/\" style=\"font-size: 8px\">truth</a>\n",
       "</span>\n",
       "<span class=\"tag-item\">\n",
       "<a class=\"tag\" href=\"/tag/simile/\" style=\"font-size: 6px\">simile</a>\n",
       "</span>\n",
       "</div>\n",
       "</div>\n",
       "</div>"
      ]
     },
     "execution_count": 59,
     "metadata": {},
     "output_type": "execute_result"
    }
   ],
   "source": [
    "bSoup.div"
   ]
  },
  {
   "cell_type": "code",
   "execution_count": 60,
   "metadata": {},
   "outputs": [
    {
     "data": {
      "text/plain": [
       "<div class=\"row header-box\">\n",
       "<div class=\"col-md-8\">\n",
       "<h1>\n",
       "<a href=\"/\" style=\"text-decoration: none\">Quotes to Scrape</a>\n",
       "</h1>\n",
       "</div>\n",
       "<div class=\"col-md-4\">\n",
       "<p>\n",
       "<a href=\"/login\">Login</a>\n",
       "</p>\n",
       "</div>\n",
       "</div>"
      ]
     },
     "execution_count": 60,
     "metadata": {},
     "output_type": "execute_result"
    }
   ],
   "source": [
    "bSoup.div.div"
   ]
  },
  {
   "cell_type": "code",
   "execution_count": 65,
   "metadata": {},
   "outputs": [],
   "source": [
    "firstDiv = bSoup.div"
   ]
  },
  {
   "cell_type": "code",
   "execution_count": 66,
   "metadata": {},
   "outputs": [
    {
     "data": {
      "text/plain": [
       "{'class': ['container']}"
      ]
     },
     "execution_count": 66,
     "metadata": {},
     "output_type": "execute_result"
    }
   ],
   "source": [
    "firstDiv.attrs"
   ]
  },
  {
   "cell_type": "code",
   "execution_count": 67,
   "metadata": {},
   "outputs": [
    {
     "data": {
      "text/plain": [
       "{'class': ['row', 'header-box']}"
      ]
     },
     "execution_count": 67,
     "metadata": {},
     "output_type": "execute_result"
    }
   ],
   "source": [
    "firstDiv.div.attrs"
   ]
  },
  {
   "cell_type": "code",
   "execution_count": 68,
   "metadata": {},
   "outputs": [
    {
     "data": {
      "text/plain": [
       "{'class': ['col-md-8']}"
      ]
     },
     "execution_count": 68,
     "metadata": {},
     "output_type": "execute_result"
    }
   ],
   "source": [
    "firstDiv.div.div.attrs"
   ]
  },
  {
   "cell_type": "code",
   "execution_count": 69,
   "metadata": {},
   "outputs": [
    {
     "data": {
      "text/plain": [
       "<a href=\"/\" style=\"text-decoration: none\">Quotes to Scrape</a>"
      ]
     },
     "execution_count": 69,
     "metadata": {},
     "output_type": "execute_result"
    }
   ],
   "source": [
    "firstDiv.div.div.a"
   ]
  },
  {
   "cell_type": "code",
   "execution_count": 70,
   "metadata": {},
   "outputs": [],
   "source": [
    "firstDiv.attrs['class'].append('new_class')"
   ]
  },
  {
   "cell_type": "code",
   "execution_count": 71,
   "metadata": {},
   "outputs": [
    {
     "data": {
      "text/plain": [
       "<div class=\"container new_class\">\n",
       "<div class=\"row header-box\">\n",
       "<div class=\"col-md-8\">\n",
       "<h1>\n",
       "<a href=\"/\" style=\"text-decoration: none\">Quotes to Scrape</a>\n",
       "</h1>\n",
       "</div>\n",
       "<div class=\"col-md-4\">\n",
       "<p>\n",
       "<a href=\"/login\">Login</a>\n",
       "</p>\n",
       "</div>\n",
       "</div>\n",
       "<div class=\"row\">\n",
       "<div class=\"col-md-8\">\n",
       "<div class=\"quote\" itemscope=\"\" itemtype=\"http://schema.org/CreativeWork\">\n",
       "<span class=\"text\" itemprop=\"text\">“The world as we have created it is a process of our thinking. It cannot be changed without changing our thinking.”</span>\n",
       "<span>by <small class=\"author\" itemprop=\"author\">Albert Einstein</small>\n",
       "<a href=\"/author/Albert-Einstein\">(about)</a>\n",
       "</span>\n",
       "<div class=\"tags\">\n",
       "            Tags:\n",
       "            <meta class=\"keywords\" content=\"change,deep-thoughts,thinking,world\" itemprop=\"keywords\"/>\n",
       "<a class=\"tag\" href=\"/tag/change/page/1/\">change</a>\n",
       "<a class=\"tag\" href=\"/tag/deep-thoughts/page/1/\">deep-thoughts</a>\n",
       "<a class=\"tag\" href=\"/tag/thinking/page/1/\">thinking</a>\n",
       "<a class=\"tag\" href=\"/tag/world/page/1/\">world</a>\n",
       "</div>\n",
       "</div>\n",
       "<div class=\"quote\" itemscope=\"\" itemtype=\"http://schema.org/CreativeWork\">\n",
       "<span class=\"text\" itemprop=\"text\">“It is our choices, Harry, that show what we truly are, far more than our abilities.”</span>\n",
       "<span>by <small class=\"author\" itemprop=\"author\">J.K. Rowling</small>\n",
       "<a href=\"/author/J-K-Rowling\">(about)</a>\n",
       "</span>\n",
       "<div class=\"tags\">\n",
       "            Tags:\n",
       "            <meta class=\"keywords\" content=\"abilities,choices\" itemprop=\"keywords\"/>\n",
       "<a class=\"tag\" href=\"/tag/abilities/page/1/\">abilities</a>\n",
       "<a class=\"tag\" href=\"/tag/choices/page/1/\">choices</a>\n",
       "</div>\n",
       "</div>\n",
       "<div class=\"quote\" itemscope=\"\" itemtype=\"http://schema.org/CreativeWork\">\n",
       "<span class=\"text\" itemprop=\"text\">“There are only two ways to live your life. One is as though nothing is a miracle. The other is as though everything is a miracle.”</span>\n",
       "<span>by <small class=\"author\" itemprop=\"author\">Albert Einstein</small>\n",
       "<a href=\"/author/Albert-Einstein\">(about)</a>\n",
       "</span>\n",
       "<div class=\"tags\">\n",
       "            Tags:\n",
       "            <meta class=\"keywords\" content=\"inspirational,life,live,miracle,miracles\" itemprop=\"keywords\"/>\n",
       "<a class=\"tag\" href=\"/tag/inspirational/page/1/\">inspirational</a>\n",
       "<a class=\"tag\" href=\"/tag/life/page/1/\">life</a>\n",
       "<a class=\"tag\" href=\"/tag/live/page/1/\">live</a>\n",
       "<a class=\"tag\" href=\"/tag/miracle/page/1/\">miracle</a>\n",
       "<a class=\"tag\" href=\"/tag/miracles/page/1/\">miracles</a>\n",
       "</div>\n",
       "</div>\n",
       "<div class=\"quote\" itemscope=\"\" itemtype=\"http://schema.org/CreativeWork\">\n",
       "<span class=\"text\" itemprop=\"text\">“The person, be it gentleman or lady, who has not pleasure in a good novel, must be intolerably stupid.”</span>\n",
       "<span>by <small class=\"author\" itemprop=\"author\">Jane Austen</small>\n",
       "<a href=\"/author/Jane-Austen\">(about)</a>\n",
       "</span>\n",
       "<div class=\"tags\">\n",
       "            Tags:\n",
       "            <meta class=\"keywords\" content=\"aliteracy,books,classic,humor\" itemprop=\"keywords\"/>\n",
       "<a class=\"tag\" href=\"/tag/aliteracy/page/1/\">aliteracy</a>\n",
       "<a class=\"tag\" href=\"/tag/books/page/1/\">books</a>\n",
       "<a class=\"tag\" href=\"/tag/classic/page/1/\">classic</a>\n",
       "<a class=\"tag\" href=\"/tag/humor/page/1/\">humor</a>\n",
       "</div>\n",
       "</div>\n",
       "<div class=\"quote\" itemscope=\"\" itemtype=\"http://schema.org/CreativeWork\">\n",
       "<span class=\"text\" itemprop=\"text\">“Imperfection is beauty, madness is genius and it's better to be absolutely ridiculous than absolutely boring.”</span>\n",
       "<span>by <small class=\"author\" itemprop=\"author\">Marilyn Monroe</small>\n",
       "<a href=\"/author/Marilyn-Monroe\">(about)</a>\n",
       "</span>\n",
       "<div class=\"tags\">\n",
       "            Tags:\n",
       "            <meta class=\"keywords\" content=\"be-yourself,inspirational\" itemprop=\"keywords\"/>\n",
       "<a class=\"tag\" href=\"/tag/be-yourself/page/1/\">be-yourself</a>\n",
       "<a class=\"tag\" href=\"/tag/inspirational/page/1/\">inspirational</a>\n",
       "</div>\n",
       "</div>\n",
       "<div class=\"quote\" itemscope=\"\" itemtype=\"http://schema.org/CreativeWork\">\n",
       "<span class=\"text\" itemprop=\"text\">“Try not to become a man of success. Rather become a man of value.”</span>\n",
       "<span>by <small class=\"author\" itemprop=\"author\">Albert Einstein</small>\n",
       "<a href=\"/author/Albert-Einstein\">(about)</a>\n",
       "</span>\n",
       "<div class=\"tags\">\n",
       "            Tags:\n",
       "            <meta class=\"keywords\" content=\"adulthood,success,value\" itemprop=\"keywords\"/>\n",
       "<a class=\"tag\" href=\"/tag/adulthood/page/1/\">adulthood</a>\n",
       "<a class=\"tag\" href=\"/tag/success/page/1/\">success</a>\n",
       "<a class=\"tag\" href=\"/tag/value/page/1/\">value</a>\n",
       "</div>\n",
       "</div>\n",
       "<div class=\"quote\" itemscope=\"\" itemtype=\"http://schema.org/CreativeWork\">\n",
       "<span class=\"text\" itemprop=\"text\">“It is better to be hated for what you are than to be loved for what you are not.”</span>\n",
       "<span>by <small class=\"author\" itemprop=\"author\">André Gide</small>\n",
       "<a href=\"/author/Andre-Gide\">(about)</a>\n",
       "</span>\n",
       "<div class=\"tags\">\n",
       "            Tags:\n",
       "            <meta class=\"keywords\" content=\"life,love\" itemprop=\"keywords\"/>\n",
       "<a class=\"tag\" href=\"/tag/life/page/1/\">life</a>\n",
       "<a class=\"tag\" href=\"/tag/love/page/1/\">love</a>\n",
       "</div>\n",
       "</div>\n",
       "<div class=\"quote\" itemscope=\"\" itemtype=\"http://schema.org/CreativeWork\">\n",
       "<span class=\"text\" itemprop=\"text\">“I have not failed. I've just found 10,000 ways that won't work.”</span>\n",
       "<span>by <small class=\"author\" itemprop=\"author\">Thomas A. Edison</small>\n",
       "<a href=\"/author/Thomas-A-Edison\">(about)</a>\n",
       "</span>\n",
       "<div class=\"tags\">\n",
       "            Tags:\n",
       "            <meta class=\"keywords\" content=\"edison,failure,inspirational,paraphrased\" itemprop=\"keywords\"/>\n",
       "<a class=\"tag\" href=\"/tag/edison/page/1/\">edison</a>\n",
       "<a class=\"tag\" href=\"/tag/failure/page/1/\">failure</a>\n",
       "<a class=\"tag\" href=\"/tag/inspirational/page/1/\">inspirational</a>\n",
       "<a class=\"tag\" href=\"/tag/paraphrased/page/1/\">paraphrased</a>\n",
       "</div>\n",
       "</div>\n",
       "<div class=\"quote\" itemscope=\"\" itemtype=\"http://schema.org/CreativeWork\">\n",
       "<span class=\"text\" itemprop=\"text\">“A woman is like a tea bag; you never know how strong it is until it's in hot water.”</span>\n",
       "<span>by <small class=\"author\" itemprop=\"author\">Eleanor Roosevelt</small>\n",
       "<a href=\"/author/Eleanor-Roosevelt\">(about)</a>\n",
       "</span>\n",
       "<div class=\"tags\">\n",
       "            Tags:\n",
       "            <meta class=\"keywords\" content=\"misattributed-eleanor-roosevelt\" itemprop=\"keywords\"/>\n",
       "<a class=\"tag\" href=\"/tag/misattributed-eleanor-roosevelt/page/1/\">misattributed-eleanor-roosevelt</a>\n",
       "</div>\n",
       "</div>\n",
       "<div class=\"quote\" itemscope=\"\" itemtype=\"http://schema.org/CreativeWork\">\n",
       "<span class=\"text\" itemprop=\"text\">“A day without sunshine is like, you know, night.”</span>\n",
       "<span>by <small class=\"author\" itemprop=\"author\">Steve Martin</small>\n",
       "<a href=\"/author/Steve-Martin\">(about)</a>\n",
       "</span>\n",
       "<div class=\"tags\">\n",
       "            Tags:\n",
       "            <meta class=\"keywords\" content=\"humor,obvious,simile\" itemprop=\"keywords\"/>\n",
       "<a class=\"tag\" href=\"/tag/humor/page/1/\">humor</a>\n",
       "<a class=\"tag\" href=\"/tag/obvious/page/1/\">obvious</a>\n",
       "<a class=\"tag\" href=\"/tag/simile/page/1/\">simile</a>\n",
       "</div>\n",
       "</div>\n",
       "<nav>\n",
       "<ul class=\"pager\">\n",
       "<li class=\"next\">\n",
       "<a href=\"/page/2/\">Next <span aria-hidden=\"true\">→</span></a>\n",
       "</li>\n",
       "</ul>\n",
       "</nav>\n",
       "</div>\n",
       "<div class=\"col-md-4 tags-box\">\n",
       "<h2>Top Ten tags</h2>\n",
       "<span class=\"tag-item\">\n",
       "<a class=\"tag\" href=\"/tag/love/\" style=\"font-size: 28px\">love</a>\n",
       "</span>\n",
       "<span class=\"tag-item\">\n",
       "<a class=\"tag\" href=\"/tag/inspirational/\" style=\"font-size: 26px\">inspirational</a>\n",
       "</span>\n",
       "<span class=\"tag-item\">\n",
       "<a class=\"tag\" href=\"/tag/life/\" style=\"font-size: 26px\">life</a>\n",
       "</span>\n",
       "<span class=\"tag-item\">\n",
       "<a class=\"tag\" href=\"/tag/humor/\" style=\"font-size: 24px\">humor</a>\n",
       "</span>\n",
       "<span class=\"tag-item\">\n",
       "<a class=\"tag\" href=\"/tag/books/\" style=\"font-size: 22px\">books</a>\n",
       "</span>\n",
       "<span class=\"tag-item\">\n",
       "<a class=\"tag\" href=\"/tag/reading/\" style=\"font-size: 14px\">reading</a>\n",
       "</span>\n",
       "<span class=\"tag-item\">\n",
       "<a class=\"tag\" href=\"/tag/friendship/\" style=\"font-size: 10px\">friendship</a>\n",
       "</span>\n",
       "<span class=\"tag-item\">\n",
       "<a class=\"tag\" href=\"/tag/friends/\" style=\"font-size: 8px\">friends</a>\n",
       "</span>\n",
       "<span class=\"tag-item\">\n",
       "<a class=\"tag\" href=\"/tag/truth/\" style=\"font-size: 8px\">truth</a>\n",
       "</span>\n",
       "<span class=\"tag-item\">\n",
       "<a class=\"tag\" href=\"/tag/simile/\" style=\"font-size: 6px\">simile</a>\n",
       "</span>\n",
       "</div>\n",
       "</div>\n",
       "</div>"
      ]
     },
     "execution_count": 71,
     "metadata": {},
     "output_type": "execute_result"
    }
   ],
   "source": [
    "firstDiv"
   ]
  },
  {
   "cell_type": "code",
   "execution_count": 73,
   "metadata": {},
   "outputs": [
    {
     "data": {
      "text/plain": [
       "<div class=\"container new_class\">\n",
       "<div class=\"row header-box\">\n",
       "<div class=\"col-md-8\">\n",
       "<h1>\n",
       "<a href=\"/\" style=\"text-decoration: none\">Quotes to Scrape</a>\n",
       "</h1>\n",
       "</div>\n",
       "<div class=\"col-md-4\">\n",
       "<p>\n",
       "<a href=\"/login\">Login</a>\n",
       "</p>\n",
       "</div>\n",
       "</div>\n",
       "<div class=\"row\">\n",
       "<div class=\"col-md-8\">\n",
       "<div class=\"quote\" itemscope=\"\" itemtype=\"http://schema.org/CreativeWork\">\n",
       "<span class=\"text\" itemprop=\"text\">“The world as we have created it is a process of our thinking. It cannot be changed without changing our thinking.”</span>\n",
       "<span>by <small class=\"author\" itemprop=\"author\">Albert Einstein</small>\n",
       "<a href=\"/author/Albert-Einstein\">(about)</a>\n",
       "</span>\n",
       "<div class=\"tags\">\n",
       "            Tags:\n",
       "            <meta class=\"keywords\" content=\"change,deep-thoughts,thinking,world\" itemprop=\"keywords\"/>\n",
       "<a class=\"tag\" href=\"/tag/change/page/1/\">change</a>\n",
       "<a class=\"tag\" href=\"/tag/deep-thoughts/page/1/\">deep-thoughts</a>\n",
       "<a class=\"tag\" href=\"/tag/thinking/page/1/\">thinking</a>\n",
       "<a class=\"tag\" href=\"/tag/world/page/1/\">world</a>\n",
       "</div>\n",
       "</div>\n",
       "<div class=\"quote\" itemscope=\"\" itemtype=\"http://schema.org/CreativeWork\">\n",
       "<span class=\"text\" itemprop=\"text\">“It is our choices, Harry, that show what we truly are, far more than our abilities.”</span>\n",
       "<span>by <small class=\"author\" itemprop=\"author\">J.K. Rowling</small>\n",
       "<a href=\"/author/J-K-Rowling\">(about)</a>\n",
       "</span>\n",
       "<div class=\"tags\">\n",
       "            Tags:\n",
       "            <meta class=\"keywords\" content=\"abilities,choices\" itemprop=\"keywords\"/>\n",
       "<a class=\"tag\" href=\"/tag/abilities/page/1/\">abilities</a>\n",
       "<a class=\"tag\" href=\"/tag/choices/page/1/\">choices</a>\n",
       "</div>\n",
       "</div>\n",
       "<div class=\"quote\" itemscope=\"\" itemtype=\"http://schema.org/CreativeWork\">\n",
       "<span class=\"text\" itemprop=\"text\">“There are only two ways to live your life. One is as though nothing is a miracle. The other is as though everything is a miracle.”</span>\n",
       "<span>by <small class=\"author\" itemprop=\"author\">Albert Einstein</small>\n",
       "<a href=\"/author/Albert-Einstein\">(about)</a>\n",
       "</span>\n",
       "<div class=\"tags\">\n",
       "            Tags:\n",
       "            <meta class=\"keywords\" content=\"inspirational,life,live,miracle,miracles\" itemprop=\"keywords\"/>\n",
       "<a class=\"tag\" href=\"/tag/inspirational/page/1/\">inspirational</a>\n",
       "<a class=\"tag\" href=\"/tag/life/page/1/\">life</a>\n",
       "<a class=\"tag\" href=\"/tag/live/page/1/\">live</a>\n",
       "<a class=\"tag\" href=\"/tag/miracle/page/1/\">miracle</a>\n",
       "<a class=\"tag\" href=\"/tag/miracles/page/1/\">miracles</a>\n",
       "</div>\n",
       "</div>\n",
       "<div class=\"quote\" itemscope=\"\" itemtype=\"http://schema.org/CreativeWork\">\n",
       "<span class=\"text\" itemprop=\"text\">“The person, be it gentleman or lady, who has not pleasure in a good novel, must be intolerably stupid.”</span>\n",
       "<span>by <small class=\"author\" itemprop=\"author\">Jane Austen</small>\n",
       "<a href=\"/author/Jane-Austen\">(about)</a>\n",
       "</span>\n",
       "<div class=\"tags\">\n",
       "            Tags:\n",
       "            <meta class=\"keywords\" content=\"aliteracy,books,classic,humor\" itemprop=\"keywords\"/>\n",
       "<a class=\"tag\" href=\"/tag/aliteracy/page/1/\">aliteracy</a>\n",
       "<a class=\"tag\" href=\"/tag/books/page/1/\">books</a>\n",
       "<a class=\"tag\" href=\"/tag/classic/page/1/\">classic</a>\n",
       "<a class=\"tag\" href=\"/tag/humor/page/1/\">humor</a>\n",
       "</div>\n",
       "</div>\n",
       "<div class=\"quote\" itemscope=\"\" itemtype=\"http://schema.org/CreativeWork\">\n",
       "<span class=\"text\" itemprop=\"text\">“Imperfection is beauty, madness is genius and it's better to be absolutely ridiculous than absolutely boring.”</span>\n",
       "<span>by <small class=\"author\" itemprop=\"author\">Marilyn Monroe</small>\n",
       "<a href=\"/author/Marilyn-Monroe\">(about)</a>\n",
       "</span>\n",
       "<div class=\"tags\">\n",
       "            Tags:\n",
       "            <meta class=\"keywords\" content=\"be-yourself,inspirational\" itemprop=\"keywords\"/>\n",
       "<a class=\"tag\" href=\"/tag/be-yourself/page/1/\">be-yourself</a>\n",
       "<a class=\"tag\" href=\"/tag/inspirational/page/1/\">inspirational</a>\n",
       "</div>\n",
       "</div>\n",
       "<div class=\"quote\" itemscope=\"\" itemtype=\"http://schema.org/CreativeWork\">\n",
       "<span class=\"text\" itemprop=\"text\">“Try not to become a man of success. Rather become a man of value.”</span>\n",
       "<span>by <small class=\"author\" itemprop=\"author\">Albert Einstein</small>\n",
       "<a href=\"/author/Albert-Einstein\">(about)</a>\n",
       "</span>\n",
       "<div class=\"tags\">\n",
       "            Tags:\n",
       "            <meta class=\"keywords\" content=\"adulthood,success,value\" itemprop=\"keywords\"/>\n",
       "<a class=\"tag\" href=\"/tag/adulthood/page/1/\">adulthood</a>\n",
       "<a class=\"tag\" href=\"/tag/success/page/1/\">success</a>\n",
       "<a class=\"tag\" href=\"/tag/value/page/1/\">value</a>\n",
       "</div>\n",
       "</div>\n",
       "<div class=\"quote\" itemscope=\"\" itemtype=\"http://schema.org/CreativeWork\">\n",
       "<span class=\"text\" itemprop=\"text\">“It is better to be hated for what you are than to be loved for what you are not.”</span>\n",
       "<span>by <small class=\"author\" itemprop=\"author\">André Gide</small>\n",
       "<a href=\"/author/Andre-Gide\">(about)</a>\n",
       "</span>\n",
       "<div class=\"tags\">\n",
       "            Tags:\n",
       "            <meta class=\"keywords\" content=\"life,love\" itemprop=\"keywords\"/>\n",
       "<a class=\"tag\" href=\"/tag/life/page/1/\">life</a>\n",
       "<a class=\"tag\" href=\"/tag/love/page/1/\">love</a>\n",
       "</div>\n",
       "</div>\n",
       "<div class=\"quote\" itemscope=\"\" itemtype=\"http://schema.org/CreativeWork\">\n",
       "<span class=\"text\" itemprop=\"text\">“I have not failed. I've just found 10,000 ways that won't work.”</span>\n",
       "<span>by <small class=\"author\" itemprop=\"author\">Thomas A. Edison</small>\n",
       "<a href=\"/author/Thomas-A-Edison\">(about)</a>\n",
       "</span>\n",
       "<div class=\"tags\">\n",
       "            Tags:\n",
       "            <meta class=\"keywords\" content=\"edison,failure,inspirational,paraphrased\" itemprop=\"keywords\"/>\n",
       "<a class=\"tag\" href=\"/tag/edison/page/1/\">edison</a>\n",
       "<a class=\"tag\" href=\"/tag/failure/page/1/\">failure</a>\n",
       "<a class=\"tag\" href=\"/tag/inspirational/page/1/\">inspirational</a>\n",
       "<a class=\"tag\" href=\"/tag/paraphrased/page/1/\">paraphrased</a>\n",
       "</div>\n",
       "</div>\n",
       "<div class=\"quote\" itemscope=\"\" itemtype=\"http://schema.org/CreativeWork\">\n",
       "<span class=\"text\" itemprop=\"text\">“A woman is like a tea bag; you never know how strong it is until it's in hot water.”</span>\n",
       "<span>by <small class=\"author\" itemprop=\"author\">Eleanor Roosevelt</small>\n",
       "<a href=\"/author/Eleanor-Roosevelt\">(about)</a>\n",
       "</span>\n",
       "<div class=\"tags\">\n",
       "            Tags:\n",
       "            <meta class=\"keywords\" content=\"misattributed-eleanor-roosevelt\" itemprop=\"keywords\"/>\n",
       "<a class=\"tag\" href=\"/tag/misattributed-eleanor-roosevelt/page/1/\">misattributed-eleanor-roosevelt</a>\n",
       "</div>\n",
       "</div>\n",
       "<div class=\"quote\" itemscope=\"\" itemtype=\"http://schema.org/CreativeWork\">\n",
       "<span class=\"text\" itemprop=\"text\">“A day without sunshine is like, you know, night.”</span>\n",
       "<span>by <small class=\"author\" itemprop=\"author\">Steve Martin</small>\n",
       "<a href=\"/author/Steve-Martin\">(about)</a>\n",
       "</span>\n",
       "<div class=\"tags\">\n",
       "            Tags:\n",
       "            <meta class=\"keywords\" content=\"humor,obvious,simile\" itemprop=\"keywords\"/>\n",
       "<a class=\"tag\" href=\"/tag/humor/page/1/\">humor</a>\n",
       "<a class=\"tag\" href=\"/tag/obvious/page/1/\">obvious</a>\n",
       "<a class=\"tag\" href=\"/tag/simile/page/1/\">simile</a>\n",
       "</div>\n",
       "</div>\n",
       "<nav>\n",
       "<ul class=\"pager\">\n",
       "<li class=\"next\">\n",
       "<a href=\"/page/2/\">Next <span aria-hidden=\"true\">→</span></a>\n",
       "</li>\n",
       "</ul>\n",
       "</nav>\n",
       "</div>\n",
       "<div class=\"col-md-4 tags-box\">\n",
       "<h2>Top Ten tags</h2>\n",
       "<span class=\"tag-item\">\n",
       "<a class=\"tag\" href=\"/tag/love/\" style=\"font-size: 28px\">love</a>\n",
       "</span>\n",
       "<span class=\"tag-item\">\n",
       "<a class=\"tag\" href=\"/tag/inspirational/\" style=\"font-size: 26px\">inspirational</a>\n",
       "</span>\n",
       "<span class=\"tag-item\">\n",
       "<a class=\"tag\" href=\"/tag/life/\" style=\"font-size: 26px\">life</a>\n",
       "</span>\n",
       "<span class=\"tag-item\">\n",
       "<a class=\"tag\" href=\"/tag/humor/\" style=\"font-size: 24px\">humor</a>\n",
       "</span>\n",
       "<span class=\"tag-item\">\n",
       "<a class=\"tag\" href=\"/tag/books/\" style=\"font-size: 22px\">books</a>\n",
       "</span>\n",
       "<span class=\"tag-item\">\n",
       "<a class=\"tag\" href=\"/tag/reading/\" style=\"font-size: 14px\">reading</a>\n",
       "</span>\n",
       "<span class=\"tag-item\">\n",
       "<a class=\"tag\" href=\"/tag/friendship/\" style=\"font-size: 10px\">friendship</a>\n",
       "</span>\n",
       "<span class=\"tag-item\">\n",
       "<a class=\"tag\" href=\"/tag/friends/\" style=\"font-size: 8px\">friends</a>\n",
       "</span>\n",
       "<span class=\"tag-item\">\n",
       "<a class=\"tag\" href=\"/tag/truth/\" style=\"font-size: 8px\">truth</a>\n",
       "</span>\n",
       "<span class=\"tag-item\">\n",
       "<a class=\"tag\" href=\"/tag/simile/\" style=\"font-size: 6px\">simile</a>\n",
       "</span>\n",
       "</div>\n",
       "</div>\n",
       "</div>"
      ]
     },
     "execution_count": 73,
     "metadata": {},
     "output_type": "execute_result"
    }
   ],
   "source": [
    "bSoup.div"
   ]
  },
  {
   "cell_type": "code",
   "execution_count": 75,
   "metadata": {},
   "outputs": [],
   "source": [
    "firstDiv.attrs['Myattr'] = 'a1'"
   ]
  },
  {
   "cell_type": "code",
   "execution_count": 77,
   "metadata": {},
   "outputs": [
    {
     "data": {
      "text/plain": [
       "<div Myattr=\"a1\" class=\"container new_class\">\n",
       "<div class=\"row header-box\">\n",
       "<div class=\"col-md-8\">\n",
       "<h1>\n",
       "<a href=\"/\" style=\"text-decoration: none\">Quotes to Scrape</a>\n",
       "</h1>\n",
       "</div>\n",
       "<div class=\"col-md-4\">\n",
       "<p>\n",
       "<a href=\"/login\">Login</a>\n",
       "</p>\n",
       "</div>\n",
       "</div>\n",
       "<div class=\"row\">\n",
       "<div class=\"col-md-8\">\n",
       "<div class=\"quote\" itemscope=\"\" itemtype=\"http://schema.org/CreativeWork\">\n",
       "<span class=\"text\" itemprop=\"text\">“The world as we have created it is a process of our thinking. It cannot be changed without changing our thinking.”</span>\n",
       "<span>by <small class=\"author\" itemprop=\"author\">Albert Einstein</small>\n",
       "<a href=\"/author/Albert-Einstein\">(about)</a>\n",
       "</span>\n",
       "<div class=\"tags\">\n",
       "            Tags:\n",
       "            <meta class=\"keywords\" content=\"change,deep-thoughts,thinking,world\" itemprop=\"keywords\"/>\n",
       "<a class=\"tag\" href=\"/tag/change/page/1/\">change</a>\n",
       "<a class=\"tag\" href=\"/tag/deep-thoughts/page/1/\">deep-thoughts</a>\n",
       "<a class=\"tag\" href=\"/tag/thinking/page/1/\">thinking</a>\n",
       "<a class=\"tag\" href=\"/tag/world/page/1/\">world</a>\n",
       "</div>\n",
       "</div>\n",
       "<div class=\"quote\" itemscope=\"\" itemtype=\"http://schema.org/CreativeWork\">\n",
       "<span class=\"text\" itemprop=\"text\">“It is our choices, Harry, that show what we truly are, far more than our abilities.”</span>\n",
       "<span>by <small class=\"author\" itemprop=\"author\">J.K. Rowling</small>\n",
       "<a href=\"/author/J-K-Rowling\">(about)</a>\n",
       "</span>\n",
       "<div class=\"tags\">\n",
       "            Tags:\n",
       "            <meta class=\"keywords\" content=\"abilities,choices\" itemprop=\"keywords\"/>\n",
       "<a class=\"tag\" href=\"/tag/abilities/page/1/\">abilities</a>\n",
       "<a class=\"tag\" href=\"/tag/choices/page/1/\">choices</a>\n",
       "</div>\n",
       "</div>\n",
       "<div class=\"quote\" itemscope=\"\" itemtype=\"http://schema.org/CreativeWork\">\n",
       "<span class=\"text\" itemprop=\"text\">“There are only two ways to live your life. One is as though nothing is a miracle. The other is as though everything is a miracle.”</span>\n",
       "<span>by <small class=\"author\" itemprop=\"author\">Albert Einstein</small>\n",
       "<a href=\"/author/Albert-Einstein\">(about)</a>\n",
       "</span>\n",
       "<div class=\"tags\">\n",
       "            Tags:\n",
       "            <meta class=\"keywords\" content=\"inspirational,life,live,miracle,miracles\" itemprop=\"keywords\"/>\n",
       "<a class=\"tag\" href=\"/tag/inspirational/page/1/\">inspirational</a>\n",
       "<a class=\"tag\" href=\"/tag/life/page/1/\">life</a>\n",
       "<a class=\"tag\" href=\"/tag/live/page/1/\">live</a>\n",
       "<a class=\"tag\" href=\"/tag/miracle/page/1/\">miracle</a>\n",
       "<a class=\"tag\" href=\"/tag/miracles/page/1/\">miracles</a>\n",
       "</div>\n",
       "</div>\n",
       "<div class=\"quote\" itemscope=\"\" itemtype=\"http://schema.org/CreativeWork\">\n",
       "<span class=\"text\" itemprop=\"text\">“The person, be it gentleman or lady, who has not pleasure in a good novel, must be intolerably stupid.”</span>\n",
       "<span>by <small class=\"author\" itemprop=\"author\">Jane Austen</small>\n",
       "<a href=\"/author/Jane-Austen\">(about)</a>\n",
       "</span>\n",
       "<div class=\"tags\">\n",
       "            Tags:\n",
       "            <meta class=\"keywords\" content=\"aliteracy,books,classic,humor\" itemprop=\"keywords\"/>\n",
       "<a class=\"tag\" href=\"/tag/aliteracy/page/1/\">aliteracy</a>\n",
       "<a class=\"tag\" href=\"/tag/books/page/1/\">books</a>\n",
       "<a class=\"tag\" href=\"/tag/classic/page/1/\">classic</a>\n",
       "<a class=\"tag\" href=\"/tag/humor/page/1/\">humor</a>\n",
       "</div>\n",
       "</div>\n",
       "<div class=\"quote\" itemscope=\"\" itemtype=\"http://schema.org/CreativeWork\">\n",
       "<span class=\"text\" itemprop=\"text\">“Imperfection is beauty, madness is genius and it's better to be absolutely ridiculous than absolutely boring.”</span>\n",
       "<span>by <small class=\"author\" itemprop=\"author\">Marilyn Monroe</small>\n",
       "<a href=\"/author/Marilyn-Monroe\">(about)</a>\n",
       "</span>\n",
       "<div class=\"tags\">\n",
       "            Tags:\n",
       "            <meta class=\"keywords\" content=\"be-yourself,inspirational\" itemprop=\"keywords\"/>\n",
       "<a class=\"tag\" href=\"/tag/be-yourself/page/1/\">be-yourself</a>\n",
       "<a class=\"tag\" href=\"/tag/inspirational/page/1/\">inspirational</a>\n",
       "</div>\n",
       "</div>\n",
       "<div class=\"quote\" itemscope=\"\" itemtype=\"http://schema.org/CreativeWork\">\n",
       "<span class=\"text\" itemprop=\"text\">“Try not to become a man of success. Rather become a man of value.”</span>\n",
       "<span>by <small class=\"author\" itemprop=\"author\">Albert Einstein</small>\n",
       "<a href=\"/author/Albert-Einstein\">(about)</a>\n",
       "</span>\n",
       "<div class=\"tags\">\n",
       "            Tags:\n",
       "            <meta class=\"keywords\" content=\"adulthood,success,value\" itemprop=\"keywords\"/>\n",
       "<a class=\"tag\" href=\"/tag/adulthood/page/1/\">adulthood</a>\n",
       "<a class=\"tag\" href=\"/tag/success/page/1/\">success</a>\n",
       "<a class=\"tag\" href=\"/tag/value/page/1/\">value</a>\n",
       "</div>\n",
       "</div>\n",
       "<div class=\"quote\" itemscope=\"\" itemtype=\"http://schema.org/CreativeWork\">\n",
       "<span class=\"text\" itemprop=\"text\">“It is better to be hated for what you are than to be loved for what you are not.”</span>\n",
       "<span>by <small class=\"author\" itemprop=\"author\">André Gide</small>\n",
       "<a href=\"/author/Andre-Gide\">(about)</a>\n",
       "</span>\n",
       "<div class=\"tags\">\n",
       "            Tags:\n",
       "            <meta class=\"keywords\" content=\"life,love\" itemprop=\"keywords\"/>\n",
       "<a class=\"tag\" href=\"/tag/life/page/1/\">life</a>\n",
       "<a class=\"tag\" href=\"/tag/love/page/1/\">love</a>\n",
       "</div>\n",
       "</div>\n",
       "<div class=\"quote\" itemscope=\"\" itemtype=\"http://schema.org/CreativeWork\">\n",
       "<span class=\"text\" itemprop=\"text\">“I have not failed. I've just found 10,000 ways that won't work.”</span>\n",
       "<span>by <small class=\"author\" itemprop=\"author\">Thomas A. Edison</small>\n",
       "<a href=\"/author/Thomas-A-Edison\">(about)</a>\n",
       "</span>\n",
       "<div class=\"tags\">\n",
       "            Tags:\n",
       "            <meta class=\"keywords\" content=\"edison,failure,inspirational,paraphrased\" itemprop=\"keywords\"/>\n",
       "<a class=\"tag\" href=\"/tag/edison/page/1/\">edison</a>\n",
       "<a class=\"tag\" href=\"/tag/failure/page/1/\">failure</a>\n",
       "<a class=\"tag\" href=\"/tag/inspirational/page/1/\">inspirational</a>\n",
       "<a class=\"tag\" href=\"/tag/paraphrased/page/1/\">paraphrased</a>\n",
       "</div>\n",
       "</div>\n",
       "<div class=\"quote\" itemscope=\"\" itemtype=\"http://schema.org/CreativeWork\">\n",
       "<span class=\"text\" itemprop=\"text\">“A woman is like a tea bag; you never know how strong it is until it's in hot water.”</span>\n",
       "<span>by <small class=\"author\" itemprop=\"author\">Eleanor Roosevelt</small>\n",
       "<a href=\"/author/Eleanor-Roosevelt\">(about)</a>\n",
       "</span>\n",
       "<div class=\"tags\">\n",
       "            Tags:\n",
       "            <meta class=\"keywords\" content=\"misattributed-eleanor-roosevelt\" itemprop=\"keywords\"/>\n",
       "<a class=\"tag\" href=\"/tag/misattributed-eleanor-roosevelt/page/1/\">misattributed-eleanor-roosevelt</a>\n",
       "</div>\n",
       "</div>\n",
       "<div class=\"quote\" itemscope=\"\" itemtype=\"http://schema.org/CreativeWork\">\n",
       "<span class=\"text\" itemprop=\"text\">“A day without sunshine is like, you know, night.”</span>\n",
       "<span>by <small class=\"author\" itemprop=\"author\">Steve Martin</small>\n",
       "<a href=\"/author/Steve-Martin\">(about)</a>\n",
       "</span>\n",
       "<div class=\"tags\">\n",
       "            Tags:\n",
       "            <meta class=\"keywords\" content=\"humor,obvious,simile\" itemprop=\"keywords\"/>\n",
       "<a class=\"tag\" href=\"/tag/humor/page/1/\">humor</a>\n",
       "<a class=\"tag\" href=\"/tag/obvious/page/1/\">obvious</a>\n",
       "<a class=\"tag\" href=\"/tag/simile/page/1/\">simile</a>\n",
       "</div>\n",
       "</div>\n",
       "<nav>\n",
       "<ul class=\"pager\">\n",
       "<li class=\"next\">\n",
       "<a href=\"/page/2/\">Next <span aria-hidden=\"true\">→</span></a>\n",
       "</li>\n",
       "</ul>\n",
       "</nav>\n",
       "</div>\n",
       "<div class=\"col-md-4 tags-box\">\n",
       "<h2>Top Ten tags</h2>\n",
       "<span class=\"tag-item\">\n",
       "<a class=\"tag\" href=\"/tag/love/\" style=\"font-size: 28px\">love</a>\n",
       "</span>\n",
       "<span class=\"tag-item\">\n",
       "<a class=\"tag\" href=\"/tag/inspirational/\" style=\"font-size: 26px\">inspirational</a>\n",
       "</span>\n",
       "<span class=\"tag-item\">\n",
       "<a class=\"tag\" href=\"/tag/life/\" style=\"font-size: 26px\">life</a>\n",
       "</span>\n",
       "<span class=\"tag-item\">\n",
       "<a class=\"tag\" href=\"/tag/humor/\" style=\"font-size: 24px\">humor</a>\n",
       "</span>\n",
       "<span class=\"tag-item\">\n",
       "<a class=\"tag\" href=\"/tag/books/\" style=\"font-size: 22px\">books</a>\n",
       "</span>\n",
       "<span class=\"tag-item\">\n",
       "<a class=\"tag\" href=\"/tag/reading/\" style=\"font-size: 14px\">reading</a>\n",
       "</span>\n",
       "<span class=\"tag-item\">\n",
       "<a class=\"tag\" href=\"/tag/friendship/\" style=\"font-size: 10px\">friendship</a>\n",
       "</span>\n",
       "<span class=\"tag-item\">\n",
       "<a class=\"tag\" href=\"/tag/friends/\" style=\"font-size: 8px\">friends</a>\n",
       "</span>\n",
       "<span class=\"tag-item\">\n",
       "<a class=\"tag\" href=\"/tag/truth/\" style=\"font-size: 8px\">truth</a>\n",
       "</span>\n",
       "<span class=\"tag-item\">\n",
       "<a class=\"tag\" href=\"/tag/simile/\" style=\"font-size: 6px\">simile</a>\n",
       "</span>\n",
       "</div>\n",
       "</div>\n",
       "</div>"
      ]
     },
     "execution_count": 77,
     "metadata": {},
     "output_type": "execute_result"
    }
   ],
   "source": [
    "firstDiv"
   ]
  },
  {
   "cell_type": "code",
   "execution_count": 79,
   "metadata": {},
   "outputs": [
    {
     "data": {
      "text/plain": [
       "<ul class=\"pager\">\n",
       "<li class=\"next\">\n",
       "<a href=\"/page/2/\">Next <span aria-hidden=\"true\">→</span></a>\n",
       "</li>\n",
       "</ul>"
      ]
     },
     "execution_count": 79,
     "metadata": {},
     "output_type": "execute_result"
    }
   ],
   "source": [
    "bSoup.ul"
   ]
  },
  {
   "cell_type": "code",
   "execution_count": 81,
   "metadata": {},
   "outputs": [
    {
     "name": "stdout",
     "output_type": "stream",
     "text": [
      "<ul class=\"pager\">\n",
      " <li class=\"next\">\n",
      "  <a href=\"/page/2/\">\n",
      "   Next\n",
      "   <span aria-hidden=\"true\">\n",
      "    →\n",
      "   </span>\n",
      "  </a>\n",
      " </li>\n",
      "</ul>\n",
      "\n"
     ]
    }
   ],
   "source": [
    "print(bSoup.ul.prettify())"
   ]
  },
  {
   "cell_type": "code",
   "execution_count": 83,
   "metadata": {},
   "outputs": [],
   "source": [
    "Ultag = bSoup.ul"
   ]
  },
  {
   "cell_type": "code",
   "execution_count": 86,
   "metadata": {},
   "outputs": [
    {
     "data": {
      "text/plain": [
       "<li class=\"next\">\n",
       "<a href=\"/page/2/\">Next <span aria-hidden=\"true\">→</span></a>\n",
       "</li>"
      ]
     },
     "execution_count": 86,
     "metadata": {},
     "output_type": "execute_result"
    }
   ],
   "source": [
    "Ultag.li"
   ]
  },
  {
   "cell_type": "code",
   "execution_count": 88,
   "metadata": {},
   "outputs": [
    {
     "data": {
      "text/plain": [
       "['\\n',\n",
       " <li class=\"next\">\n",
       " <a href=\"/page/2/\">Next <span aria-hidden=\"true\">→</span></a>\n",
       " </li>,\n",
       " '\\n']"
      ]
     },
     "execution_count": 88,
     "metadata": {},
     "output_type": "execute_result"
    }
   ],
   "source": [
    "list(Ultag.children)"
   ]
  },
  {
   "cell_type": "code",
   "execution_count": 93,
   "metadata": {},
   "outputs": [
    {
     "data": {
      "text/plain": [
       "bs4.element.NavigableString"
      ]
     },
     "execution_count": 93,
     "metadata": {},
     "output_type": "execute_result"
    }
   ],
   "source": [
    "list(Ultag.children)[0]\n",
    "\n",
    "type(list(Ultag.children)[0])"
   ]
  },
  {
   "cell_type": "code",
   "execution_count": 96,
   "metadata": {},
   "outputs": [
    {
     "data": {
      "text/plain": [
       "[<li class=\"next\">\n",
       " <a href=\"/page/2/\">Next <span aria-hidden=\"true\">→</span></a>\n",
       " </li>]"
      ]
     },
     "execution_count": 96,
     "metadata": {},
     "output_type": "execute_result"
    }
   ],
   "source": [
    "list(filter(lambda x : type(x) != NavigableString , Ultag.children))"
   ]
  },
  {
   "cell_type": "code",
   "execution_count": 100,
   "metadata": {},
   "outputs": [
    {
     "data": {
      "text/plain": [
       "['\\n',\n",
       " <div class=\"row header-box\">\n",
       " <div class=\"col-md-8\">\n",
       " <h1>\n",
       " <a href=\"/\" style=\"text-decoration: none\">Quotes to Scrape</a>\n",
       " </h1>\n",
       " </div>\n",
       " <div class=\"col-md-4\">\n",
       " <p>\n",
       " <a href=\"/login\">Login</a>\n",
       " </p>\n",
       " </div>\n",
       " </div>,\n",
       " '\\n',\n",
       " <div class=\"row\">\n",
       " <div class=\"col-md-8\">\n",
       " <div class=\"quote\" itemscope=\"\" itemtype=\"http://schema.org/CreativeWork\">\n",
       " <span class=\"text\" itemprop=\"text\">“The world as we have created it is a process of our thinking. It cannot be changed without changing our thinking.”</span>\n",
       " <span>by <small class=\"author\" itemprop=\"author\">Albert Einstein</small>\n",
       " <a href=\"/author/Albert-Einstein\">(about)</a>\n",
       " </span>\n",
       " <div class=\"tags\">\n",
       "             Tags:\n",
       "             <meta class=\"keywords\" content=\"change,deep-thoughts,thinking,world\" itemprop=\"keywords\"/>\n",
       " <a class=\"tag\" href=\"/tag/change/page/1/\">change</a>\n",
       " <a class=\"tag\" href=\"/tag/deep-thoughts/page/1/\">deep-thoughts</a>\n",
       " <a class=\"tag\" href=\"/tag/thinking/page/1/\">thinking</a>\n",
       " <a class=\"tag\" href=\"/tag/world/page/1/\">world</a>\n",
       " </div>\n",
       " </div>\n",
       " <div class=\"quote\" itemscope=\"\" itemtype=\"http://schema.org/CreativeWork\">\n",
       " <span class=\"text\" itemprop=\"text\">“It is our choices, Harry, that show what we truly are, far more than our abilities.”</span>\n",
       " <span>by <small class=\"author\" itemprop=\"author\">J.K. Rowling</small>\n",
       " <a href=\"/author/J-K-Rowling\">(about)</a>\n",
       " </span>\n",
       " <div class=\"tags\">\n",
       "             Tags:\n",
       "             <meta class=\"keywords\" content=\"abilities,choices\" itemprop=\"keywords\"/>\n",
       " <a class=\"tag\" href=\"/tag/abilities/page/1/\">abilities</a>\n",
       " <a class=\"tag\" href=\"/tag/choices/page/1/\">choices</a>\n",
       " </div>\n",
       " </div>\n",
       " <div class=\"quote\" itemscope=\"\" itemtype=\"http://schema.org/CreativeWork\">\n",
       " <span class=\"text\" itemprop=\"text\">“There are only two ways to live your life. One is as though nothing is a miracle. The other is as though everything is a miracle.”</span>\n",
       " <span>by <small class=\"author\" itemprop=\"author\">Albert Einstein</small>\n",
       " <a href=\"/author/Albert-Einstein\">(about)</a>\n",
       " </span>\n",
       " <div class=\"tags\">\n",
       "             Tags:\n",
       "             <meta class=\"keywords\" content=\"inspirational,life,live,miracle,miracles\" itemprop=\"keywords\"/>\n",
       " <a class=\"tag\" href=\"/tag/inspirational/page/1/\">inspirational</a>\n",
       " <a class=\"tag\" href=\"/tag/life/page/1/\">life</a>\n",
       " <a class=\"tag\" href=\"/tag/live/page/1/\">live</a>\n",
       " <a class=\"tag\" href=\"/tag/miracle/page/1/\">miracle</a>\n",
       " <a class=\"tag\" href=\"/tag/miracles/page/1/\">miracles</a>\n",
       " </div>\n",
       " </div>\n",
       " <div class=\"quote\" itemscope=\"\" itemtype=\"http://schema.org/CreativeWork\">\n",
       " <span class=\"text\" itemprop=\"text\">“The person, be it gentleman or lady, who has not pleasure in a good novel, must be intolerably stupid.”</span>\n",
       " <span>by <small class=\"author\" itemprop=\"author\">Jane Austen</small>\n",
       " <a href=\"/author/Jane-Austen\">(about)</a>\n",
       " </span>\n",
       " <div class=\"tags\">\n",
       "             Tags:\n",
       "             <meta class=\"keywords\" content=\"aliteracy,books,classic,humor\" itemprop=\"keywords\"/>\n",
       " <a class=\"tag\" href=\"/tag/aliteracy/page/1/\">aliteracy</a>\n",
       " <a class=\"tag\" href=\"/tag/books/page/1/\">books</a>\n",
       " <a class=\"tag\" href=\"/tag/classic/page/1/\">classic</a>\n",
       " <a class=\"tag\" href=\"/tag/humor/page/1/\">humor</a>\n",
       " </div>\n",
       " </div>\n",
       " <div class=\"quote\" itemscope=\"\" itemtype=\"http://schema.org/CreativeWork\">\n",
       " <span class=\"text\" itemprop=\"text\">“Imperfection is beauty, madness is genius and it's better to be absolutely ridiculous than absolutely boring.”</span>\n",
       " <span>by <small class=\"author\" itemprop=\"author\">Marilyn Monroe</small>\n",
       " <a href=\"/author/Marilyn-Monroe\">(about)</a>\n",
       " </span>\n",
       " <div class=\"tags\">\n",
       "             Tags:\n",
       "             <meta class=\"keywords\" content=\"be-yourself,inspirational\" itemprop=\"keywords\"/>\n",
       " <a class=\"tag\" href=\"/tag/be-yourself/page/1/\">be-yourself</a>\n",
       " <a class=\"tag\" href=\"/tag/inspirational/page/1/\">inspirational</a>\n",
       " </div>\n",
       " </div>\n",
       " <div class=\"quote\" itemscope=\"\" itemtype=\"http://schema.org/CreativeWork\">\n",
       " <span class=\"text\" itemprop=\"text\">“Try not to become a man of success. Rather become a man of value.”</span>\n",
       " <span>by <small class=\"author\" itemprop=\"author\">Albert Einstein</small>\n",
       " <a href=\"/author/Albert-Einstein\">(about)</a>\n",
       " </span>\n",
       " <div class=\"tags\">\n",
       "             Tags:\n",
       "             <meta class=\"keywords\" content=\"adulthood,success,value\" itemprop=\"keywords\"/>\n",
       " <a class=\"tag\" href=\"/tag/adulthood/page/1/\">adulthood</a>\n",
       " <a class=\"tag\" href=\"/tag/success/page/1/\">success</a>\n",
       " <a class=\"tag\" href=\"/tag/value/page/1/\">value</a>\n",
       " </div>\n",
       " </div>\n",
       " <div class=\"quote\" itemscope=\"\" itemtype=\"http://schema.org/CreativeWork\">\n",
       " <span class=\"text\" itemprop=\"text\">“It is better to be hated for what you are than to be loved for what you are not.”</span>\n",
       " <span>by <small class=\"author\" itemprop=\"author\">André Gide</small>\n",
       " <a href=\"/author/Andre-Gide\">(about)</a>\n",
       " </span>\n",
       " <div class=\"tags\">\n",
       "             Tags:\n",
       "             <meta class=\"keywords\" content=\"life,love\" itemprop=\"keywords\"/>\n",
       " <a class=\"tag\" href=\"/tag/life/page/1/\">life</a>\n",
       " <a class=\"tag\" href=\"/tag/love/page/1/\">love</a>\n",
       " </div>\n",
       " </div>\n",
       " <div class=\"quote\" itemscope=\"\" itemtype=\"http://schema.org/CreativeWork\">\n",
       " <span class=\"text\" itemprop=\"text\">“I have not failed. I've just found 10,000 ways that won't work.”</span>\n",
       " <span>by <small class=\"author\" itemprop=\"author\">Thomas A. Edison</small>\n",
       " <a href=\"/author/Thomas-A-Edison\">(about)</a>\n",
       " </span>\n",
       " <div class=\"tags\">\n",
       "             Tags:\n",
       "             <meta class=\"keywords\" content=\"edison,failure,inspirational,paraphrased\" itemprop=\"keywords\"/>\n",
       " <a class=\"tag\" href=\"/tag/edison/page/1/\">edison</a>\n",
       " <a class=\"tag\" href=\"/tag/failure/page/1/\">failure</a>\n",
       " <a class=\"tag\" href=\"/tag/inspirational/page/1/\">inspirational</a>\n",
       " <a class=\"tag\" href=\"/tag/paraphrased/page/1/\">paraphrased</a>\n",
       " </div>\n",
       " </div>\n",
       " <div class=\"quote\" itemscope=\"\" itemtype=\"http://schema.org/CreativeWork\">\n",
       " <span class=\"text\" itemprop=\"text\">“A woman is like a tea bag; you never know how strong it is until it's in hot water.”</span>\n",
       " <span>by <small class=\"author\" itemprop=\"author\">Eleanor Roosevelt</small>\n",
       " <a href=\"/author/Eleanor-Roosevelt\">(about)</a>\n",
       " </span>\n",
       " <div class=\"tags\">\n",
       "             Tags:\n",
       "             <meta class=\"keywords\" content=\"misattributed-eleanor-roosevelt\" itemprop=\"keywords\"/>\n",
       " <a class=\"tag\" href=\"/tag/misattributed-eleanor-roosevelt/page/1/\">misattributed-eleanor-roosevelt</a>\n",
       " </div>\n",
       " </div>\n",
       " <div class=\"quote\" itemscope=\"\" itemtype=\"http://schema.org/CreativeWork\">\n",
       " <span class=\"text\" itemprop=\"text\">“A day without sunshine is like, you know, night.”</span>\n",
       " <span>by <small class=\"author\" itemprop=\"author\">Steve Martin</small>\n",
       " <a href=\"/author/Steve-Martin\">(about)</a>\n",
       " </span>\n",
       " <div class=\"tags\">\n",
       "             Tags:\n",
       "             <meta class=\"keywords\" content=\"humor,obvious,simile\" itemprop=\"keywords\"/>\n",
       " <a class=\"tag\" href=\"/tag/humor/page/1/\">humor</a>\n",
       " <a class=\"tag\" href=\"/tag/obvious/page/1/\">obvious</a>\n",
       " <a class=\"tag\" href=\"/tag/simile/page/1/\">simile</a>\n",
       " </div>\n",
       " </div>\n",
       " <nav>\n",
       " <ul class=\"pager\">\n",
       " <li class=\"next\">\n",
       " <a href=\"/page/2/\">Next <span aria-hidden=\"true\">→</span></a>\n",
       " </li>\n",
       " </ul>\n",
       " </nav>\n",
       " </div>\n",
       " <div class=\"col-md-4 tags-box\">\n",
       " <h2>Top Ten tags</h2>\n",
       " <span class=\"tag-item\">\n",
       " <a class=\"tag\" href=\"/tag/love/\" style=\"font-size: 28px\">love</a>\n",
       " </span>\n",
       " <span class=\"tag-item\">\n",
       " <a class=\"tag\" href=\"/tag/inspirational/\" style=\"font-size: 26px\">inspirational</a>\n",
       " </span>\n",
       " <span class=\"tag-item\">\n",
       " <a class=\"tag\" href=\"/tag/life/\" style=\"font-size: 26px\">life</a>\n",
       " </span>\n",
       " <span class=\"tag-item\">\n",
       " <a class=\"tag\" href=\"/tag/humor/\" style=\"font-size: 24px\">humor</a>\n",
       " </span>\n",
       " <span class=\"tag-item\">\n",
       " <a class=\"tag\" href=\"/tag/books/\" style=\"font-size: 22px\">books</a>\n",
       " </span>\n",
       " <span class=\"tag-item\">\n",
       " <a class=\"tag\" href=\"/tag/reading/\" style=\"font-size: 14px\">reading</a>\n",
       " </span>\n",
       " <span class=\"tag-item\">\n",
       " <a class=\"tag\" href=\"/tag/friendship/\" style=\"font-size: 10px\">friendship</a>\n",
       " </span>\n",
       " <span class=\"tag-item\">\n",
       " <a class=\"tag\" href=\"/tag/friends/\" style=\"font-size: 8px\">friends</a>\n",
       " </span>\n",
       " <span class=\"tag-item\">\n",
       " <a class=\"tag\" href=\"/tag/truth/\" style=\"font-size: 8px\">truth</a>\n",
       " </span>\n",
       " <span class=\"tag-item\">\n",
       " <a class=\"tag\" href=\"/tag/simile/\" style=\"font-size: 6px\">simile</a>\n",
       " </span>\n",
       " </div>\n",
       " </div>,\n",
       " '\\n']"
      ]
     },
     "execution_count": 100,
     "metadata": {},
     "output_type": "execute_result"
    }
   ],
   "source": [
    "list(firstDiv.children)"
   ]
  },
  {
   "cell_type": "code",
   "execution_count": 102,
   "metadata": {},
   "outputs": [],
   "source": [
    "def navigableListRemove(elem):\n",
    "     return list(filter(lambda x : type(x) != NavigableString , Ultag.children))"
   ]
  },
  {
   "cell_type": "code",
   "execution_count": 105,
   "metadata": {},
   "outputs": [
    {
     "data": {
      "text/plain": [
       "[<li class=\"next\">\n",
       " <a href=\"/page/2/\">Next <span aria-hidden=\"true\">→</span></a>\n",
       " </li>]"
      ]
     },
     "execution_count": 105,
     "metadata": {},
     "output_type": "execute_result"
    }
   ],
   "source": [
    "navigableListRemove(firstDiv.children)"
   ]
  },
  {
   "cell_type": "code",
   "execution_count": 107,
   "metadata": {},
   "outputs": [
    {
     "data": {
      "text/plain": [
       "[<li class=\"next\">\n",
       " <a href=\"/page/2/\">Next <span aria-hidden=\"true\">→</span></a>\n",
       " </li>]"
      ]
     },
     "execution_count": 107,
     "metadata": {},
     "output_type": "execute_result"
    }
   ],
   "source": [
    "navigableListRemove(bSoup.ul.children)"
   ]
  },
  {
   "cell_type": "code",
   "execution_count": 109,
   "metadata": {},
   "outputs": [
    {
     "data": {
      "text/plain": [
       "<generator object Tag.descendants at 0x000001F2A9B0EDC0>"
      ]
     },
     "execution_count": 109,
     "metadata": {},
     "output_type": "execute_result"
    }
   ],
   "source": [
    "bSoup.ul.descendants"
   ]
  },
  {
   "cell_type": "code",
   "execution_count": 111,
   "metadata": {},
   "outputs": [
    {
     "data": {
      "text/plain": [
       "['\\n',\n",
       " <li class=\"next\">\n",
       " <a href=\"/page/2/\">Next <span aria-hidden=\"true\">→</span></a>\n",
       " </li>,\n",
       " '\\n',\n",
       " <a href=\"/page/2/\">Next <span aria-hidden=\"true\">→</span></a>,\n",
       " 'Next ',\n",
       " <span aria-hidden=\"true\">→</span>,\n",
       " '→',\n",
       " '\\n',\n",
       " '\\n']"
      ]
     },
     "execution_count": 111,
     "metadata": {},
     "output_type": "execute_result"
    }
   ],
   "source": [
    "list(bSoup.ul.descendants)"
   ]
  },
  {
   "cell_type": "code",
   "execution_count": 113,
   "metadata": {},
   "outputs": [],
   "source": [
    "descUL = navigableListRemove(bSoup.ul.descendants)"
   ]
  },
  {
   "cell_type": "code",
   "execution_count": 115,
   "metadata": {},
   "outputs": [
    {
     "data": {
      "text/plain": [
       "[<li class=\"next\">\n",
       " <a href=\"/page/2/\">Next <span aria-hidden=\"true\">→</span></a>\n",
       " </li>]"
      ]
     },
     "execution_count": 115,
     "metadata": {},
     "output_type": "execute_result"
    }
   ],
   "source": [
    "descUL"
   ]
  },
  {
   "cell_type": "code",
   "execution_count": 117,
   "metadata": {},
   "outputs": [
    {
     "data": {
      "text/plain": [
       "[<li class=\"next\">\n",
       " <a href=\"/page/2/\">Next <span aria-hidden=\"true\">→</span></a>\n",
       " </li>]"
      ]
     },
     "execution_count": 117,
     "metadata": {},
     "output_type": "execute_result"
    }
   ],
   "source": [
    "navigableListRemove(firstDiv.children)"
   ]
  },
  {
   "cell_type": "code",
   "execution_count": 121,
   "metadata": {},
   "outputs": [],
   "source": [
    "navigableListRemove(firstDiv.descendants)\n",
    "\n",
    "firstDiv_desc = navigableListRemove(firstDiv.descendants)"
   ]
  },
  {
   "cell_type": "code",
   "execution_count": 123,
   "metadata": {},
   "outputs": [
    {
     "data": {
      "text/plain": [
       "[<li class=\"next\">\n",
       " <a href=\"/page/2/\">Next <span aria-hidden=\"true\">→</span></a>\n",
       " </li>]"
      ]
     },
     "execution_count": 123,
     "metadata": {},
     "output_type": "execute_result"
    }
   ],
   "source": [
    "firstDiv_desc"
   ]
  },
  {
   "cell_type": "code",
   "execution_count": 125,
   "metadata": {},
   "outputs": [
    {
     "data": {
      "text/plain": [
       "<ul class=\"pager\">\n",
       "<li class=\"next\">\n",
       "<a href=\"/page/2/\">Next <span aria-hidden=\"true\">→</span></a>\n",
       "</li>\n",
       "</ul>"
      ]
     },
     "execution_count": 125,
     "metadata": {},
     "output_type": "execute_result"
    }
   ],
   "source": [
    "firstDiv_desc[0].parent"
   ]
  },
  {
   "cell_type": "code",
   "execution_count": 130,
   "metadata": {},
   "outputs": [
    {
     "data": {
      "text/plain": [
       "'\\n'"
      ]
     },
     "execution_count": 130,
     "metadata": {},
     "output_type": "execute_result"
    }
   ],
   "source": [
    "Ultag.nextSibling"
   ]
  },
  {
   "cell_type": "code",
   "execution_count": 132,
   "metadata": {},
   "outputs": [
    {
     "data": {
      "text/plain": [
       "['\\n',\n",
       " <li class=\"next\">\n",
       " <a href=\"/page/2/\">Next <span aria-hidden=\"true\">→</span></a>\n",
       " </li>,\n",
       " '\\n']"
      ]
     },
     "execution_count": 132,
     "metadata": {},
     "output_type": "execute_result"
    }
   ],
   "source": [
    "list(bSoup.ul)"
   ]
  },
  {
   "cell_type": "code",
   "execution_count": 137,
   "metadata": {},
   "outputs": [
    {
     "data": {
      "text/plain": [
       "<li class=\"next\">\n",
       "<a href=\"/page/2/\">Next <span aria-hidden=\"true\">→</span></a>\n",
       "</li>"
      ]
     },
     "execution_count": 137,
     "metadata": {},
     "output_type": "execute_result"
    }
   ],
   "source": [
    "bSoup.ul.li\\\n",
    "    .nextSibling\\\n",
    "       .previous_sibling\\\n",
    "               \n"
   ]
  },
  {
   "cell_type": "code",
   "execution_count": 144,
   "metadata": {},
   "outputs": [
    {
     "name": "stdout",
     "output_type": "stream",
     "text": [
      "\n",
      ",\n",
      ",Next ,→,\n",
      ",\n",
      "\n"
     ]
    },
    {
     "data": {
      "text/plain": [
       "[<li class=\"next\">\n",
       " <a href=\"/page/2/\">Next <span aria-hidden=\"true\">→</span></a>\n",
       " </li>]"
      ]
     },
     "execution_count": 144,
     "metadata": {},
     "output_type": "execute_result"
    }
   ],
   "source": [
    "sepULTAG = Ultag.getText(separator=\",\")\n",
    "\n",
    "print(sepULTAG)\n",
    "\n",
    "navigableListRemove(sepULTAG)"
   ]
  },
  {
   "cell_type": "code",
   "execution_count": 146,
   "metadata": {},
   "outputs": [
    {
     "data": {
      "text/plain": [
       "'Next,→'"
      ]
     },
     "execution_count": 146,
     "metadata": {},
     "output_type": "execute_result"
    }
   ],
   "source": [
    "Ultag.getText(separator=',', strip=True)"
   ]
  },
  {
   "cell_type": "code",
   "execution_count": 148,
   "metadata": {},
   "outputs": [
    {
     "data": {
      "text/plain": [
       "<a href=\"/\" style=\"text-decoration: none\">Quotes to Scrape</a>"
      ]
     },
     "execution_count": 148,
     "metadata": {},
     "output_type": "execute_result"
    }
   ],
   "source": [
    "bSoup.find('a')"
   ]
  },
  {
   "cell_type": "code",
   "execution_count": 153,
   "metadata": {},
   "outputs": [
    {
     "data": {
      "text/plain": [
       "<a href=\"/\" style=\"text-decoration: none\">Quotes to Scrape</a>"
      ]
     },
     "execution_count": 153,
     "metadata": {},
     "output_type": "execute_result"
    }
   ],
   "source": [
    "bSoup.a"
   ]
  },
  {
   "cell_type": "code",
   "execution_count": 155,
   "metadata": {},
   "outputs": [
    {
     "data": {
      "text/plain": [
       "[<a href=\"/\" style=\"text-decoration: none\">Quotes to Scrape</a>,\n",
       " <a href=\"/login\">Login</a>,\n",
       " <a href=\"/author/Albert-Einstein\">(about)</a>,\n",
       " <a class=\"tag\" href=\"/tag/change/page/1/\">change</a>,\n",
       " <a class=\"tag\" href=\"/tag/deep-thoughts/page/1/\">deep-thoughts</a>,\n",
       " <a class=\"tag\" href=\"/tag/thinking/page/1/\">thinking</a>,\n",
       " <a class=\"tag\" href=\"/tag/world/page/1/\">world</a>,\n",
       " <a href=\"/author/J-K-Rowling\">(about)</a>,\n",
       " <a class=\"tag\" href=\"/tag/abilities/page/1/\">abilities</a>,\n",
       " <a class=\"tag\" href=\"/tag/choices/page/1/\">choices</a>,\n",
       " <a href=\"/author/Albert-Einstein\">(about)</a>,\n",
       " <a class=\"tag\" href=\"/tag/inspirational/page/1/\">inspirational</a>,\n",
       " <a class=\"tag\" href=\"/tag/life/page/1/\">life</a>,\n",
       " <a class=\"tag\" href=\"/tag/live/page/1/\">live</a>,\n",
       " <a class=\"tag\" href=\"/tag/miracle/page/1/\">miracle</a>,\n",
       " <a class=\"tag\" href=\"/tag/miracles/page/1/\">miracles</a>,\n",
       " <a href=\"/author/Jane-Austen\">(about)</a>,\n",
       " <a class=\"tag\" href=\"/tag/aliteracy/page/1/\">aliteracy</a>,\n",
       " <a class=\"tag\" href=\"/tag/books/page/1/\">books</a>,\n",
       " <a class=\"tag\" href=\"/tag/classic/page/1/\">classic</a>,\n",
       " <a class=\"tag\" href=\"/tag/humor/page/1/\">humor</a>,\n",
       " <a href=\"/author/Marilyn-Monroe\">(about)</a>,\n",
       " <a class=\"tag\" href=\"/tag/be-yourself/page/1/\">be-yourself</a>,\n",
       " <a class=\"tag\" href=\"/tag/inspirational/page/1/\">inspirational</a>,\n",
       " <a href=\"/author/Albert-Einstein\">(about)</a>,\n",
       " <a class=\"tag\" href=\"/tag/adulthood/page/1/\">adulthood</a>,\n",
       " <a class=\"tag\" href=\"/tag/success/page/1/\">success</a>,\n",
       " <a class=\"tag\" href=\"/tag/value/page/1/\">value</a>,\n",
       " <a href=\"/author/Andre-Gide\">(about)</a>,\n",
       " <a class=\"tag\" href=\"/tag/life/page/1/\">life</a>,\n",
       " <a class=\"tag\" href=\"/tag/love/page/1/\">love</a>,\n",
       " <a href=\"/author/Thomas-A-Edison\">(about)</a>,\n",
       " <a class=\"tag\" href=\"/tag/edison/page/1/\">edison</a>,\n",
       " <a class=\"tag\" href=\"/tag/failure/page/1/\">failure</a>,\n",
       " <a class=\"tag\" href=\"/tag/inspirational/page/1/\">inspirational</a>,\n",
       " <a class=\"tag\" href=\"/tag/paraphrased/page/1/\">paraphrased</a>,\n",
       " <a href=\"/author/Eleanor-Roosevelt\">(about)</a>,\n",
       " <a class=\"tag\" href=\"/tag/misattributed-eleanor-roosevelt/page/1/\">misattributed-eleanor-roosevelt</a>,\n",
       " <a href=\"/author/Steve-Martin\">(about)</a>,\n",
       " <a class=\"tag\" href=\"/tag/humor/page/1/\">humor</a>,\n",
       " <a class=\"tag\" href=\"/tag/obvious/page/1/\">obvious</a>,\n",
       " <a class=\"tag\" href=\"/tag/simile/page/1/\">simile</a>,\n",
       " <a href=\"/page/2/\">Next <span aria-hidden=\"true\">→</span></a>,\n",
       " <a class=\"tag\" href=\"/tag/love/\" style=\"font-size: 28px\">love</a>,\n",
       " <a class=\"tag\" href=\"/tag/inspirational/\" style=\"font-size: 26px\">inspirational</a>,\n",
       " <a class=\"tag\" href=\"/tag/life/\" style=\"font-size: 26px\">life</a>,\n",
       " <a class=\"tag\" href=\"/tag/humor/\" style=\"font-size: 24px\">humor</a>,\n",
       " <a class=\"tag\" href=\"/tag/books/\" style=\"font-size: 22px\">books</a>,\n",
       " <a class=\"tag\" href=\"/tag/reading/\" style=\"font-size: 14px\">reading</a>,\n",
       " <a class=\"tag\" href=\"/tag/friendship/\" style=\"font-size: 10px\">friendship</a>,\n",
       " <a class=\"tag\" href=\"/tag/friends/\" style=\"font-size: 8px\">friends</a>,\n",
       " <a class=\"tag\" href=\"/tag/truth/\" style=\"font-size: 8px\">truth</a>,\n",
       " <a class=\"tag\" href=\"/tag/simile/\" style=\"font-size: 6px\">simile</a>,\n",
       " <a href=\"https://www.goodreads.com/quotes\">GoodReads.com</a>,\n",
       " <a class=\"zyte\" href=\"https://www.zyte.com\">Zyte</a>]"
      ]
     },
     "execution_count": 155,
     "metadata": {},
     "output_type": "execute_result"
    }
   ],
   "source": [
    "bSoup.find_all('a')"
   ]
  },
  {
   "cell_type": "code",
   "execution_count": 157,
   "metadata": {},
   "outputs": [
    {
     "data": {
      "text/plain": [
       "55"
      ]
     },
     "execution_count": 157,
     "metadata": {},
     "output_type": "execute_result"
    }
   ],
   "source": [
    "len(bSoup.find_all('a'))"
   ]
  },
  {
   "cell_type": "code",
   "execution_count": 159,
   "metadata": {},
   "outputs": [
    {
     "data": {
      "text/plain": [
       "[<a href=\"/\" style=\"text-decoration: none\">Quotes to Scrape</a>,\n",
       " <p>\n",
       " <a href=\"/login\">Login</a>\n",
       " </p>,\n",
       " <a href=\"/login\">Login</a>,\n",
       " <a href=\"/author/Albert-Einstein\">(about)</a>,\n",
       " <a class=\"tag\" href=\"/tag/change/page/1/\">change</a>,\n",
       " <a class=\"tag\" href=\"/tag/deep-thoughts/page/1/\">deep-thoughts</a>,\n",
       " <a class=\"tag\" href=\"/tag/thinking/page/1/\">thinking</a>,\n",
       " <a class=\"tag\" href=\"/tag/world/page/1/\">world</a>,\n",
       " <a href=\"/author/J-K-Rowling\">(about)</a>,\n",
       " <a class=\"tag\" href=\"/tag/abilities/page/1/\">abilities</a>,\n",
       " <a class=\"tag\" href=\"/tag/choices/page/1/\">choices</a>,\n",
       " <a href=\"/author/Albert-Einstein\">(about)</a>,\n",
       " <a class=\"tag\" href=\"/tag/inspirational/page/1/\">inspirational</a>,\n",
       " <a class=\"tag\" href=\"/tag/life/page/1/\">life</a>,\n",
       " <a class=\"tag\" href=\"/tag/live/page/1/\">live</a>,\n",
       " <a class=\"tag\" href=\"/tag/miracle/page/1/\">miracle</a>,\n",
       " <a class=\"tag\" href=\"/tag/miracles/page/1/\">miracles</a>,\n",
       " <a href=\"/author/Jane-Austen\">(about)</a>,\n",
       " <a class=\"tag\" href=\"/tag/aliteracy/page/1/\">aliteracy</a>,\n",
       " <a class=\"tag\" href=\"/tag/books/page/1/\">books</a>,\n",
       " <a class=\"tag\" href=\"/tag/classic/page/1/\">classic</a>,\n",
       " <a class=\"tag\" href=\"/tag/humor/page/1/\">humor</a>,\n",
       " <a href=\"/author/Marilyn-Monroe\">(about)</a>,\n",
       " <a class=\"tag\" href=\"/tag/be-yourself/page/1/\">be-yourself</a>,\n",
       " <a class=\"tag\" href=\"/tag/inspirational/page/1/\">inspirational</a>,\n",
       " <a href=\"/author/Albert-Einstein\">(about)</a>,\n",
       " <a class=\"tag\" href=\"/tag/adulthood/page/1/\">adulthood</a>,\n",
       " <a class=\"tag\" href=\"/tag/success/page/1/\">success</a>,\n",
       " <a class=\"tag\" href=\"/tag/value/page/1/\">value</a>,\n",
       " <a href=\"/author/Andre-Gide\">(about)</a>,\n",
       " <a class=\"tag\" href=\"/tag/life/page/1/\">life</a>,\n",
       " <a class=\"tag\" href=\"/tag/love/page/1/\">love</a>,\n",
       " <a href=\"/author/Thomas-A-Edison\">(about)</a>,\n",
       " <a class=\"tag\" href=\"/tag/edison/page/1/\">edison</a>,\n",
       " <a class=\"tag\" href=\"/tag/failure/page/1/\">failure</a>,\n",
       " <a class=\"tag\" href=\"/tag/inspirational/page/1/\">inspirational</a>,\n",
       " <a class=\"tag\" href=\"/tag/paraphrased/page/1/\">paraphrased</a>,\n",
       " <a href=\"/author/Eleanor-Roosevelt\">(about)</a>,\n",
       " <a class=\"tag\" href=\"/tag/misattributed-eleanor-roosevelt/page/1/\">misattributed-eleanor-roosevelt</a>,\n",
       " <a href=\"/author/Steve-Martin\">(about)</a>,\n",
       " <a class=\"tag\" href=\"/tag/humor/page/1/\">humor</a>,\n",
       " <a class=\"tag\" href=\"/tag/obvious/page/1/\">obvious</a>,\n",
       " <a class=\"tag\" href=\"/tag/simile/page/1/\">simile</a>,\n",
       " <a href=\"/page/2/\">Next <span aria-hidden=\"true\">→</span></a>,\n",
       " <a class=\"tag\" href=\"/tag/love/\" style=\"font-size: 28px\">love</a>,\n",
       " <a class=\"tag\" href=\"/tag/inspirational/\" style=\"font-size: 26px\">inspirational</a>,\n",
       " <a class=\"tag\" href=\"/tag/life/\" style=\"font-size: 26px\">life</a>,\n",
       " <a class=\"tag\" href=\"/tag/humor/\" style=\"font-size: 24px\">humor</a>,\n",
       " <a class=\"tag\" href=\"/tag/books/\" style=\"font-size: 22px\">books</a>,\n",
       " <a class=\"tag\" href=\"/tag/reading/\" style=\"font-size: 14px\">reading</a>,\n",
       " <a class=\"tag\" href=\"/tag/friendship/\" style=\"font-size: 10px\">friendship</a>,\n",
       " <a class=\"tag\" href=\"/tag/friends/\" style=\"font-size: 8px\">friends</a>,\n",
       " <a class=\"tag\" href=\"/tag/truth/\" style=\"font-size: 8px\">truth</a>,\n",
       " <a class=\"tag\" href=\"/tag/simile/\" style=\"font-size: 6px\">simile</a>,\n",
       " <p class=\"text-muted\">\n",
       "                 Quotes by: <a href=\"https://www.goodreads.com/quotes\">GoodReads.com</a>\n",
       " </p>,\n",
       " <a href=\"https://www.goodreads.com/quotes\">GoodReads.com</a>,\n",
       " <p class=\"copyright\">\n",
       "                 Made with <span class=\"zyte\">❤</span> by <a class=\"zyte\" href=\"https://www.zyte.com\">Zyte</a>\n",
       " </p>,\n",
       " <a class=\"zyte\" href=\"https://www.zyte.com\">Zyte</a>]"
      ]
     },
     "execution_count": 159,
     "metadata": {},
     "output_type": "execute_result"
    }
   ],
   "source": [
    "bSoup.find_all(['a','p'])"
   ]
  },
  {
   "cell_type": "code",
   "execution_count": 161,
   "metadata": {},
   "outputs": [
    {
     "data": {
      "text/plain": [
       "58"
      ]
     },
     "execution_count": 161,
     "metadata": {},
     "output_type": "execute_result"
    }
   ],
   "source": [
    "len(bSoup.find_all(['a', 'p']))"
   ]
  },
  {
   "cell_type": "code",
   "execution_count": 162,
   "metadata": {},
   "outputs": [
    {
     "name": "stdout",
     "output_type": "stream",
     "text": [
      "3\n"
     ]
    },
    {
     "data": {
      "text/plain": [
       "[<p>\n",
       " <a href=\"/login\">Login</a>\n",
       " </p>,\n",
       " <p class=\"text-muted\">\n",
       "                 Quotes by: <a href=\"https://www.goodreads.com/quotes\">GoodReads.com</a>\n",
       " </p>,\n",
       " <p class=\"copyright\">\n",
       "                 Made with <span class=\"zyte\">❤</span> by <a class=\"zyte\" href=\"https://www.zyte.com\">Zyte</a>\n",
       " </p>]"
      ]
     },
     "execution_count": 162,
     "metadata": {},
     "output_type": "execute_result"
    }
   ],
   "source": [
    "print(len(bSoup.find_all(['p'])))\n",
    "bSoup.find_all(['p'])"
   ]
  }
 ],
 "metadata": {
  "kernelspec": {
   "display_name": "Python 3",
   "language": "python",
   "name": "python3"
  },
  "language_info": {
   "codemirror_mode": {
    "name": "ipython",
    "version": 3
   },
   "file_extension": ".py",
   "mimetype": "text/x-python",
   "name": "python",
   "nbconvert_exporter": "python",
   "pygments_lexer": "ipython3",
   "version": "3.12.3"
  }
 },
 "nbformat": 4,
 "nbformat_minor": 2
}
