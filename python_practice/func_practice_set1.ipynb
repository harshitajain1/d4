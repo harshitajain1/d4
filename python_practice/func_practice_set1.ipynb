{
 "cells": [
  {
   "cell_type": "code",
   "execution_count": 1,
   "id": "4f99d62a-e891-45c1-b1e7-9dff4a6dc5c4",
   "metadata": {},
   "outputs": [
    {
     "name": "stdout",
     "output_type": "stream",
     "text": [
      "This is a dictionary\n",
      "{'Name1': 'DIC', 'Name2': 'TION', 'Name3': 'ARY', 'joinName': 'DICTIONARY'}\n"
     ]
    }
   ],
   "source": [
    "print('This is a dictionary')\n",
    "\n",
    "def dictName(val1,val2,val3):\n",
    "    join_Name = f'{val1}{val2}{val3}'\n",
    "    result = {\n",
    "        'Name1':val1,\n",
    "        'Name2':val2,\n",
    "        'Name3':val3,\n",
    "        'joinName':join_Name\n",
    "    }\n",
    "    return result\n",
    "\n",
    "\n",
    "val1 = \"DIC\"\n",
    "val2 = \"TION\"\n",
    "val3 = \"ARY\"\n",
    "output = dictName(val1,val2,val3)\n",
    "\n",
    "print(output)"
   ]
  }
 ],
 "metadata": {
  "kernelspec": {
   "display_name": "Python 3 (ipykernel)",
   "language": "python",
   "name": "python3"
  },
  "language_info": {
   "codemirror_mode": {
    "name": "ipython",
    "version": 3
   },
   "file_extension": ".py",
   "mimetype": "text/x-python",
   "name": "python",
   "nbconvert_exporter": "python",
   "pygments_lexer": "ipython3",
   "version": "3.11.7"
  }
 },
 "nbformat": 4,
 "nbformat_minor": 5
}
