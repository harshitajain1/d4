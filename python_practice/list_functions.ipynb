{
 "cells": [
  {
   "cell_type": "markdown",
   "id": "2c3933a0-d648-431a-8d36-fe7d171e3d02",
   "metadata": {},
   "source": [
    "# LIST"
   ]
  },
  {
   "cell_type": "markdown",
   "id": "01782449-dbed-45be-87ed-dae84ee215c4",
   "metadata": {},
   "source": [
    "#### A list is a data structure in Python that is a mutable, or changeable, ordered sequence of elements"
   ]
  },
  {
   "cell_type": "code",
   "execution_count": 32,
   "id": "7d240d8f-5205-44e1-b087-a58f6ebb04c5",
   "metadata": {},
   "outputs": [
    {
     "data": {
      "text/plain": [
       "[1, 2, 3, 4, 5]"
      ]
     },
     "execution_count": 32,
     "metadata": {},
     "output_type": "execute_result"
    }
   ],
   "source": [
    "list1 = [1,2,3,4,5]\n",
    "list1"
   ]
  },
  {
   "cell_type": "markdown",
   "id": "c29702a9-a903-4170-ae21-3f0a732e2423",
   "metadata": {},
   "source": [
    "# LIST FUNCTIONS"
   ]
  },
  {
   "cell_type": "markdown",
   "id": "6a6f5f95-dae5-40a4-b880-be2a461da490",
   "metadata": {},
   "source": [
    "* There are 68 built-in python functions. These functions perform a specific task and can be used in any program, depending on the requirement of the user."
   ]
  },
  {
   "cell_type": "markdown",
   "id": "f9859807-02e1-4df5-866c-d822b1e54b15",
   "metadata": {},
   "source": [
    "## APPEND()"
   ]
  },
  {
   "cell_type": "markdown",
   "id": "12c28048-8c7d-4612-89b1-356eead41456",
   "metadata": {},
   "source": [
    "#### It is Used for adding elements to the end of the List. "
   ]
  },
  {
   "cell_type": "code",
   "execution_count": 20,
   "id": "9a4af2bd-d531-42e8-9cc7-a66ecf791c57",
   "metadata": {},
   "outputs": [],
   "source": [
    "list1.append(6)\n"
   ]
  },
  {
   "cell_type": "markdown",
   "id": "23e6d759-b0a4-4fd0-8444-f4a294ce98bb",
   "metadata": {},
   "source": [
    "## COPY()"
   ]
  },
  {
   "cell_type": "markdown",
   "id": "013d8e68-7874-4f87-aef3-2fac81c023e4",
   "metadata": {},
   "source": [
    "#### It returns a copy of a list"
   ]
  },
  {
   "cell_type": "code",
   "execution_count": 16,
   "id": "c9996b22-5405-481c-9775-671a65dad743",
   "metadata": {},
   "outputs": [
    {
     "data": {
      "text/plain": [
       "[1, 2, 3, 4, 5, 6, 6]"
      ]
     },
     "execution_count": 16,
     "metadata": {},
     "output_type": "execute_result"
    }
   ],
   "source": [
    "list1.copy()\n",
    "list1"
   ]
  },
  {
   "cell_type": "markdown",
   "id": "aa207b25-d07c-40ef-995e-243fb1e88388",
   "metadata": {},
   "source": [
    "## CLEAR()"
   ]
  },
  {
   "cell_type": "markdown",
   "id": "0195e80c-5b81-4427-a9d8-4d1ecfdd5f1e",
   "metadata": {},
   "source": [
    "#### This method is used for removing all items from the list. "
   ]
  },
  {
   "cell_type": "code",
   "execution_count": 24,
   "id": "f808de83-c559-4323-a359-fba65f597673",
   "metadata": {},
   "outputs": [],
   "source": [
    "list1.clear()"
   ]
  },
  {
   "cell_type": "code",
   "execution_count": 26,
   "id": "f90801be-4df2-4c78-a139-1bdec5de3ac3",
   "metadata": {},
   "outputs": [
    {
     "data": {
      "text/plain": [
       "[]"
      ]
     },
     "execution_count": 26,
     "metadata": {},
     "output_type": "execute_result"
    }
   ],
   "source": [
    "list1"
   ]
  },
  {
   "cell_type": "markdown",
   "id": "e5fc5bf7-53e6-4e64-a021-4db1f131891a",
   "metadata": {},
   "source": [
    "## COUNT()"
   ]
  },
  {
   "cell_type": "markdown",
   "id": "5cd4d5c2-d528-447d-82cc-e30aa558f36f",
   "metadata": {},
   "source": [
    "#### These methods count the elements.It returns the count of how many times an element is present in a list."
   ]
  },
  {
   "cell_type": "code",
   "execution_count": 36,
   "id": "94ef533d-2cea-4c4f-ada5-e7dd9b2ed0da",
   "metadata": {},
   "outputs": [
    {
     "data": {
      "text/plain": [
       "1"
      ]
     },
     "execution_count": 36,
     "metadata": {},
     "output_type": "execute_result"
    }
   ],
   "source": [
    "list1.count(2)"
   ]
  },
  {
   "cell_type": "markdown",
   "id": "b55a1988-b5ca-4350-85b7-2b26baeed891",
   "metadata": {},
   "source": [
    "## EXTEND() "
   ]
  },
  {
   "cell_type": "markdown",
   "id": "3c1afe4a-5cae-422e-a580-820ec9410d99",
   "metadata": {},
   "source": [
    "#### It adds items of an iterable (list, tuple, dictionary, etc) at the end of a list."
   ]
  },
  {
   "cell_type": "code",
   "execution_count": 75,
   "id": "d4f30119-90bb-4ff7-9107-ff2b705af889",
   "metadata": {},
   "outputs": [],
   "source": [
    "fruits = ['APPLE','MANGO','BANANA']\n",
    "veggie = ['potato','onion','tomato']\n"
   ]
  },
  {
   "cell_type": "code",
   "execution_count": 40,
   "id": "f11b99bd-7223-4dcd-917d-d03cc4d6e440",
   "metadata": {},
   "outputs": [
    {
     "name": "stdout",
     "output_type": "stream",
     "text": [
      "['APPLE', 'MANGO', 'BANANA']\n",
      "['potato', 'onion', 'tomato']\n"
     ]
    }
   ],
   "source": [
    "print(fruits)\n",
    "print(veggie)"
   ]
  },
  {
   "cell_type": "code",
   "execution_count": 104,
   "id": "a705b04d-0c7b-4933-97ac-0b9a581d9d60",
   "metadata": {},
   "outputs": [],
   "source": [
    "fruits.extend(veggie)"
   ]
  },
  {
   "cell_type": "code",
   "execution_count": 105,
   "id": "a6d1b921-cab8-408f-b82a-dab4668d4ade",
   "metadata": {},
   "outputs": [
    {
     "data": {
      "text/plain": [
       "['APPLE', 'MANGO', 'tomato', 'potato', 'tomato', 'potato', 'onion', 'tomato']"
      ]
     },
     "execution_count": 105,
     "metadata": {},
     "output_type": "execute_result"
    }
   ],
   "source": [
    "fruits"
   ]
  },
  {
   "cell_type": "markdown",
   "id": "56cefe32-3704-43aa-bfe4-52c06588c76f",
   "metadata": {},
   "source": [
    "## INDEX()"
   ]
  },
  {
   "cell_type": "markdown",
   "id": "71f013b3-b27a-481f-a4cc-a7759a6c4f4f",
   "metadata": {},
   "source": [
    "#### This method is used to find position of element in list Python."
   ]
  },
  {
   "cell_type": "code",
   "execution_count": 49,
   "id": "933b830b-757b-40ac-bd5c-a0d319a63c6f",
   "metadata": {},
   "outputs": [
    {
     "name": "stdout",
     "output_type": "stream",
     "text": [
      "2\n"
     ]
    }
   ],
   "source": [
    "print(fruits.index('BANANA'))"
   ]
  },
  {
   "cell_type": "markdown",
   "id": "1901a6e8-9393-43ac-8bb0-24e873466156",
   "metadata": {},
   "source": [
    "## INSERT()"
   ]
  },
  {
   "cell_type": "markdown",
   "id": "b13cb81e-d179-4be0-908e-d87d91805645",
   "metadata": {},
   "source": [
    "#### This method inserts an item at a specific index in a list."
   ]
  },
  {
   "cell_type": "code",
   "execution_count": 106,
   "id": "87f2b088-d705-4f55-bf0e-e42bac922f6a",
   "metadata": {},
   "outputs": [
    {
     "name": "stdout",
     "output_type": "stream",
     "text": [
      "None\n"
     ]
    }
   ],
   "source": [
    "print(fruits.insert(1,'grapes'))\n"
   ]
  },
  {
   "cell_type": "code",
   "execution_count": 107,
   "id": "c9e74d1f-0354-4f66-bffb-0b78c724fdaa",
   "metadata": {},
   "outputs": [
    {
     "data": {
      "text/plain": [
       "['APPLE',\n",
       " 'grapes',\n",
       " 'MANGO',\n",
       " 'tomato',\n",
       " 'potato',\n",
       " 'tomato',\n",
       " 'potato',\n",
       " 'onion',\n",
       " 'tomato']"
      ]
     },
     "execution_count": 107,
     "metadata": {},
     "output_type": "execute_result"
    }
   ],
   "source": [
    "fruits"
   ]
  },
  {
   "cell_type": "markdown",
   "id": "c87b21e0-880b-4e30-86e9-955ebce33bc2",
   "metadata": {},
   "source": [
    "## POP()"
   ]
  },
  {
   "cell_type": "markdown",
   "id": "e1071c5b-4c07-4e55-904e-392f427b08f4",
   "metadata": {},
   "source": [
    "#### This function removes elements at a specific index from the list."
   ]
  },
  {
   "cell_type": "code",
   "execution_count": 108,
   "id": "fd8b6bd2-a8c9-4e7e-bca8-bdf2b52eee5a",
   "metadata": {},
   "outputs": [
    {
     "data": {
      "text/plain": [
       "['APPLE',\n",
       " 'grapes',\n",
       " 'MANGO',\n",
       " 'tomato',\n",
       " 'potato',\n",
       " 'tomato',\n",
       " 'potato',\n",
       " 'onion',\n",
       " 'tomato']"
      ]
     },
     "execution_count": 108,
     "metadata": {},
     "output_type": "execute_result"
    }
   ],
   "source": [
    "fruits"
   ]
  },
  {
   "cell_type": "code",
   "execution_count": 109,
   "id": "1c09fa06-98a6-4efc-95e0-5fc2c6b40398",
   "metadata": {},
   "outputs": [
    {
     "data": {
      "text/plain": [
       "['APPLE', 'grapes', 'MANGO', 'potato', 'tomato', 'potato', 'onion', 'tomato']"
      ]
     },
     "execution_count": 109,
     "metadata": {},
     "output_type": "execute_result"
    }
   ],
   "source": [
    "fruits.pop(3)\n",
    "fruits"
   ]
  },
  {
   "cell_type": "markdown",
   "id": "5c5db44f-11c0-418c-aa05-8153273aeb65",
   "metadata": {},
   "source": [
    "## REMOVE()"
   ]
  },
  {
   "cell_type": "markdown",
   "id": "8a27a7f9-41eb-46fe-9f7b-a226d60a60e3",
   "metadata": {},
   "source": [
    "#### This method removes a given element from the list."
   ]
  },
  {
   "cell_type": "code",
   "execution_count": 110,
   "id": "d4299180-2c0a-41c5-831b-fad538232e3b",
   "metadata": {},
   "outputs": [
    {
     "data": {
      "text/plain": [
       "['APPLE', 'grapes', 'MANGO', 'potato', 'tomato', 'potato', 'onion', 'tomato']"
      ]
     },
     "execution_count": 110,
     "metadata": {},
     "output_type": "execute_result"
    }
   ],
   "source": [
    "fruits"
   ]
  },
  {
   "cell_type": "code",
   "execution_count": 111,
   "id": "38cfbb3b-4fe1-4b02-acb4-082a7e592d2e",
   "metadata": {},
   "outputs": [],
   "source": [
    "fruits.remove('grapes')"
   ]
  },
  {
   "cell_type": "code",
   "execution_count": 112,
   "id": "96c7e5df-ad9e-4f4c-88e1-a69334e823c1",
   "metadata": {},
   "outputs": [
    {
     "data": {
      "text/plain": [
       "['APPLE', 'MANGO', 'potato', 'tomato', 'potato', 'onion', 'tomato']"
      ]
     },
     "execution_count": 112,
     "metadata": {},
     "output_type": "execute_result"
    }
   ],
   "source": [
    "fruits"
   ]
  },
  {
   "cell_type": "markdown",
   "id": "b6780ccd-9e66-49d5-8b8d-aa2ffb005fcf",
   "metadata": {},
   "source": [
    "## REVERSE()"
   ]
  },
  {
   "cell_type": "markdown",
   "id": "27d2d32f-e1fe-460d-8504-efb3ae0b2e3e",
   "metadata": {},
   "source": [
    "#### It reverses objects of the List in place "
   ]
  },
  {
   "cell_type": "code",
   "execution_count": 114,
   "id": "4a1ea0b7-07d9-4471-9dbe-173939c3b06c",
   "metadata": {},
   "outputs": [
    {
     "data": {
      "text/plain": [
       "['APPLE', 'MANGO', 'potato', 'tomato', 'potato', 'onion', 'tomato']"
      ]
     },
     "execution_count": 114,
     "metadata": {},
     "output_type": "execute_result"
    }
   ],
   "source": [
    "fruits"
   ]
  },
  {
   "cell_type": "code",
   "execution_count": 120,
   "id": "a135027e-c9be-4cbc-862c-682172231060",
   "metadata": {},
   "outputs": [
    {
     "name": "stdout",
     "output_type": "stream",
     "text": [
      "None\n"
     ]
    }
   ],
   "source": [
    "print(fruits.reverse())"
   ]
  },
  {
   "cell_type": "code",
   "execution_count": 122,
   "id": "a78b61ed-b813-488d-8de9-f93713a53909",
   "metadata": {},
   "outputs": [
    {
     "data": {
      "text/plain": [
       "['tomato', 'onion', 'potato', 'tomato', 'potato', 'MANGO', 'APPLE']"
      ]
     },
     "execution_count": 122,
     "metadata": {},
     "output_type": "execute_result"
    }
   ],
   "source": [
    "fruits"
   ]
  },
  {
   "cell_type": "markdown",
   "id": "88873898-c628-4b04-84be-59d36ddb4feb",
   "metadata": {},
   "source": [
    "## SORT()"
   ]
  },
  {
   "cell_type": "markdown",
   "id": "dc33746d-bfd3-4cc7-9dad-76403d0eedf2",
   "metadata": {},
   "source": [
    "#### It sorts in ascending order by default but can also sort values in descending order or in a custom manner using its parameters."
   ]
  },
  {
   "cell_type": "code",
   "execution_count": 124,
   "id": "d7d8c924-e01b-4d65-93a1-d7762cf05a05",
   "metadata": {},
   "outputs": [
    {
     "data": {
      "text/plain": [
       "['tomato', 'onion', 'potato', 'tomato', 'potato', 'MANGO', 'APPLE']"
      ]
     },
     "execution_count": 124,
     "metadata": {},
     "output_type": "execute_result"
    }
   ],
   "source": [
    "fruits"
   ]
  },
  {
   "cell_type": "code",
   "execution_count": 126,
   "id": "c6e3c3df-6a83-472b-9157-9b3c4aa1d598",
   "metadata": {},
   "outputs": [
    {
     "name": "stdout",
     "output_type": "stream",
     "text": [
      "None\n"
     ]
    }
   ],
   "source": [
    "print(fruits.sort())"
   ]
  },
  {
   "cell_type": "code",
   "execution_count": 128,
   "id": "bd8eec56-a06f-4aee-a446-c27d998ab0ef",
   "metadata": {},
   "outputs": [
    {
     "data": {
      "text/plain": [
       "['APPLE', 'MANGO', 'onion', 'potato', 'potato', 'tomato', 'tomato']"
      ]
     },
     "execution_count": 128,
     "metadata": {},
     "output_type": "execute_result"
    }
   ],
   "source": [
    "fruits"
   ]
  },
  {
   "cell_type": "code",
   "execution_count": 130,
   "id": "e6bdf18f-f8d2-4adc-82a4-23ac39884e46",
   "metadata": {},
   "outputs": [
    {
     "name": "stdout",
     "output_type": "stream",
     "text": [
      "None\n"
     ]
    }
   ],
   "source": [
    "print(fruits.sort(reverse = True))"
   ]
  },
  {
   "cell_type": "code",
   "execution_count": 132,
   "id": "64514d4f-e1c7-466b-a735-522f775aa2bf",
   "metadata": {},
   "outputs": [
    {
     "data": {
      "text/plain": [
       "['tomato', 'tomato', 'potato', 'potato', 'onion', 'MANGO', 'APPLE']"
      ]
     },
     "execution_count": 132,
     "metadata": {},
     "output_type": "execute_result"
    }
   ],
   "source": [
    "fruits"
   ]
  },
  {
   "cell_type": "markdown",
   "id": "68743bac-ea70-4a22-9d4b-6c9b3cde84f7",
   "metadata": {},
   "source": [
    "## MIN()"
   ]
  },
  {
   "cell_type": "markdown",
   "id": "5eb5bef8-4f50-41c3-a5b1-a34b98d7e894",
   "metadata": {},
   "source": [
    "#### It returns the smallest of the values or the smallest item in an iterable passed as its parameter."
   ]
  },
  {
   "cell_type": "code",
   "execution_count": 135,
   "id": "fb561830-3c32-494b-9ca8-fd9ee6e586db",
   "metadata": {},
   "outputs": [],
   "source": [
    "list2 = [28,67,87,68,45,85,98,36]"
   ]
  },
  {
   "cell_type": "code",
   "execution_count": 137,
   "id": "344b5081-944d-4d37-b7aa-57596d063542",
   "metadata": {},
   "outputs": [
    {
     "data": {
      "text/plain": [
       "[28, 67, 87, 68, 45, 85, 98, 36]"
      ]
     },
     "execution_count": 137,
     "metadata": {},
     "output_type": "execute_result"
    }
   ],
   "source": [
    "list2"
   ]
  },
  {
   "cell_type": "code",
   "execution_count": 139,
   "id": "582c5b86-7a9f-40f4-b919-2162914254d8",
   "metadata": {},
   "outputs": [
    {
     "name": "stdout",
     "output_type": "stream",
     "text": [
      "28\n"
     ]
    }
   ],
   "source": [
    "print(min(list2))"
   ]
  },
  {
   "cell_type": "markdown",
   "id": "40e714dc-0095-4f7e-b4a6-5a2df171f43f",
   "metadata": {},
   "source": [
    "## MAX()"
   ]
  },
  {
   "cell_type": "markdown",
   "id": "b01a9a25-9d28-4dc6-8bb6-023fb53676da",
   "metadata": {},
   "source": [
    "#### It returns the maximum value present in the list."
   ]
  },
  {
   "cell_type": "code",
   "execution_count": 142,
   "id": "195eec84-c0de-44d4-960e-fb3bfd57f9bd",
   "metadata": {},
   "outputs": [
    {
     "name": "stdout",
     "output_type": "stream",
     "text": [
      "98\n"
     ]
    }
   ],
   "source": [
    "print(max(list2))"
   ]
  },
  {
   "cell_type": "code",
   "execution_count": 141,
   "id": "a446d061-d8f4-4c91-a4e7-b6c620eba163",
   "metadata": {},
   "outputs": [
    {
     "data": {
      "text/plain": [
       "[28, 67, 87, 68, 45, 85, 98, 36]"
      ]
     },
     "execution_count": 141,
     "metadata": {},
     "output_type": "execute_result"
    }
   ],
   "source": [
    "list2"
   ]
  }
 ],
 "metadata": {
  "kernelspec": {
   "display_name": "Python 3 (ipykernel)",
   "language": "python",
   "name": "python3"
  },
  "language_info": {
   "codemirror_mode": {
    "name": "ipython",
    "version": 3
   },
   "file_extension": ".py",
   "mimetype": "text/x-python",
   "name": "python",
   "nbconvert_exporter": "python",
   "pygments_lexer": "ipython3",
   "version": "3.11.7"
  }
 },
 "nbformat": 4,
 "nbformat_minor": 5
}
