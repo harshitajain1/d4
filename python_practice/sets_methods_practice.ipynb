{
 "cells": [
  {
   "cell_type": "markdown",
   "id": "7a121945-066a-429d-8ff2-7d4520a00460",
   "metadata": {},
   "source": [
    "# SETS"
   ]
  },
  {
   "cell_type": "markdown",
   "id": "c92360fa-d7a7-4292-ab39-47cbbf0ad894",
   "metadata": {},
   "source": [
    "#### Sets are used to store multiple items in a single variable.Set is one of 4 built-in data types in Python used to store collections of data, the other 3 are List, Tuple, and Dictionary, all with different qualities and usage."
   ]
  },
  {
   "cell_type": "code",
   "execution_count": 108,
   "id": "5c3f4e74-032f-4f00-99f0-ea9932dae694",
   "metadata": {},
   "outputs": [
    {
     "data": {
      "text/plain": [
       "{10, 20, 30, 40, 50, 60}"
      ]
     },
     "execution_count": 108,
     "metadata": {},
     "output_type": "execute_result"
    }
   ],
   "source": [
    "# Creating a set with curly braces \n",
    "\n",
    "my_set = {10,20,30,40,50,60}\n",
    "my_set"
   ]
  },
  {
   "cell_type": "code",
   "execution_count": 20,
   "id": "948d4179-0752-41d2-bb90-eda85e77e77b",
   "metadata": {},
   "outputs": [
    {
     "data": {
      "text/plain": [
       "[1, 2, 3, 4, 5, 6, 7, 8, 9]"
      ]
     },
     "execution_count": 20,
     "metadata": {},
     "output_type": "execute_result"
    }
   ],
   "source": [
    "# Creating a set using the set() function \n",
    "\n",
    "my_set1 = ([1,2,3,4,5,6,7,8,9])\n",
    "my_set1"
   ]
  },
  {
   "cell_type": "code",
   "execution_count": 6,
   "id": "eb1f6409-ee11-4985-a602-b461fc0c6742",
   "metadata": {},
   "outputs": [
    {
     "data": {
      "text/plain": [
       "()"
      ]
     },
     "execution_count": 6,
     "metadata": {},
     "output_type": "execute_result"
    }
   ],
   "source": [
    "# Creating a empty set\n",
    "\n",
    "my_set2=()\n",
    "my_set2"
   ]
  },
  {
   "cell_type": "markdown",
   "id": "19c5b8ce-354d-4f8f-9450-45b163bf8783",
   "metadata": {},
   "source": [
    "# FUNCTIONS OF SETS "
   ]
  },
  {
   "cell_type": "markdown",
   "id": "ff95ef97-0545-4a76-a9fc-005b4381f4e3",
   "metadata": {},
   "source": [
    "#### Python provides various functions to work with Set. In this article, we will see a list of all the functions provided by Python to deal with Sets."
   ]
  },
  {
   "cell_type": "markdown",
   "id": "242f21f8-accd-40b0-a593-c8bf7e9daa91",
   "metadata": {},
   "source": [
    "## Add()"
   ]
  },
  {
   "cell_type": "markdown",
   "id": "cc5e1c11-cffc-407b-a807-2d4a7646a040",
   "metadata": {},
   "source": [
    "#### Adds an element elem to the set. If the element already exists, the set remains unchanged."
   ]
  },
  {
   "cell_type": "code",
   "execution_count": 8,
   "id": "671fde76-25b2-4027-b9a6-7b6fa9a84bf8",
   "metadata": {},
   "outputs": [
    {
     "data": {
      "text/plain": [
       "{10, 20, 30, 40, 50, 60}"
      ]
     },
     "execution_count": 8,
     "metadata": {},
     "output_type": "execute_result"
    }
   ],
   "source": [
    " my_set"
   ]
  },
  {
   "cell_type": "code",
   "execution_count": 10,
   "id": "6288d602-1ff3-4d2c-8b34-017974e5b7de",
   "metadata": {},
   "outputs": [],
   "source": [
    "my_set.add(70)"
   ]
  },
  {
   "cell_type": "code",
   "execution_count": 12,
   "id": "ca2385fb-11ff-468a-abca-99cf5d4b8026",
   "metadata": {},
   "outputs": [
    {
     "data": {
      "text/plain": [
       "{10, 20, 30, 40, 50, 60, 70}"
      ]
     },
     "execution_count": 12,
     "metadata": {},
     "output_type": "execute_result"
    }
   ],
   "source": [
    "my_set"
   ]
  },
  {
   "cell_type": "markdown",
   "id": "37786295-10bd-466a-8ec7-466065115d2d",
   "metadata": {},
   "source": [
    "## Clear()"
   ]
  },
  {
   "cell_type": "markdown",
   "id": "8bf8e7ca-b5ca-48d2-a5be-36b7c78b2e5b",
   "metadata": {},
   "source": [
    "#### It Removes all elements from the set, leaving it empty."
   ]
  },
  {
   "cell_type": "code",
   "execution_count": 21,
   "id": "e921f893-c5a9-415c-9eca-352b7755d5a8",
   "metadata": {},
   "outputs": [
    {
     "data": {
      "text/plain": [
       "[1, 2, 3, 4, 5, 6, 7, 8, 9]"
      ]
     },
     "execution_count": 21,
     "metadata": {},
     "output_type": "execute_result"
    }
   ],
   "source": [
    "my_set1"
   ]
  },
  {
   "cell_type": "code",
   "execution_count": 16,
   "id": "f074df6b-f658-4e75-9956-a59d255bebbb",
   "metadata": {},
   "outputs": [],
   "source": [
    "my_set1.clear()"
   ]
  },
  {
   "cell_type": "code",
   "execution_count": 18,
   "id": "b0adc446-9fd3-40fc-8e3d-5bf3737d486c",
   "metadata": {},
   "outputs": [
    {
     "data": {
      "text/plain": [
       "[]"
      ]
     },
     "execution_count": 18,
     "metadata": {},
     "output_type": "execute_result"
    }
   ],
   "source": [
    "my_set1"
   ]
  },
  {
   "cell_type": "markdown",
   "id": "b8d39f26-15b8-4dc4-aa40-bc496d66f5ce",
   "metadata": {},
   "source": [
    "## Copy()"
   ]
  },
  {
   "cell_type": "markdown",
   "id": "21f9511d-5379-471c-983b-fc42a36f0444",
   "metadata": {},
   "source": [
    "#### It Returns a shallow copy of the set."
   ]
  },
  {
   "cell_type": "code",
   "execution_count": 25,
   "id": "f326e601-fa4a-4a4f-943b-e3a911f69fcb",
   "metadata": {},
   "outputs": [
    {
     "data": {
      "text/plain": [
       "{10, 20, 30, 40, 50, 60, 70}"
      ]
     },
     "execution_count": 25,
     "metadata": {},
     "output_type": "execute_result"
    }
   ],
   "source": [
    "my_set"
   ]
  },
  {
   "cell_type": "code",
   "execution_count": 27,
   "id": "01af97a8-9c7b-4865-8b4b-79a1eb968bae",
   "metadata": {},
   "outputs": [
    {
     "data": {
      "text/plain": [
       "{10, 20, 30, 40, 50, 60, 70}"
      ]
     },
     "execution_count": 27,
     "metadata": {},
     "output_type": "execute_result"
    }
   ],
   "source": [
    "my_set.copy()"
   ]
  },
  {
   "cell_type": "code",
   "execution_count": 29,
   "id": "c67d2264-60cc-47bc-8e4f-87e93cfe3616",
   "metadata": {},
   "outputs": [
    {
     "data": {
      "text/plain": [
       "{10, 20, 30, 40, 50, 60, 70}"
      ]
     },
     "execution_count": 29,
     "metadata": {},
     "output_type": "execute_result"
    }
   ],
   "source": [
    "my_set"
   ]
  },
  {
   "cell_type": "markdown",
   "id": "bd8071cd-2a06-45b2-8da5-4d02519d9ff7",
   "metadata": {},
   "source": [
    "## Difference()"
   ]
  },
  {
   "cell_type": "markdown",
   "id": "2b6786fd-0eaa-444b-9861-1b9b7b47d5f2",
   "metadata": {},
   "source": [
    "#### It Returns a new set with elements that are in the set but not in the others."
   ]
  },
  {
   "cell_type": "code",
   "execution_count": 79,
   "id": "9d8f0353-78c2-4ba2-b1d1-bd9189b45400",
   "metadata": {},
   "outputs": [],
   "source": [
    "s1 = {30,40,50}\n",
    "s2 = {20,30,40}\n",
    "diff_set = s1.difference(s2)"
   ]
  },
  {
   "cell_type": "code",
   "execution_count": 34,
   "id": "6fd6988e-00a3-4db6-9062-f0ccd6ca93d6",
   "metadata": {},
   "outputs": [
    {
     "data": {
      "text/plain": [
       "{50}"
      ]
     },
     "execution_count": 34,
     "metadata": {},
     "output_type": "execute_result"
    }
   ],
   "source": [
    "diff_set"
   ]
  },
  {
   "cell_type": "code",
   "execution_count": 36,
   "id": "1e359e4e-9c32-4c6a-b218-8f38ccf25df1",
   "metadata": {},
   "outputs": [],
   "source": [
    "diff_set1 = s2.difference(s1)\n"
   ]
  },
  {
   "cell_type": "code",
   "execution_count": 38,
   "id": "98d35092-af05-499b-bc53-a2607436a338",
   "metadata": {},
   "outputs": [
    {
     "data": {
      "text/plain": [
       "{20}"
      ]
     },
     "execution_count": 38,
     "metadata": {},
     "output_type": "execute_result"
    }
   ],
   "source": [
    "diff_set1"
   ]
  },
  {
   "cell_type": "markdown",
   "id": "acaf90a2-8ac0-42b4-9d9c-ae2e16a2fd78",
   "metadata": {},
   "source": [
    "## Difference_update()"
   ]
  },
  {
   "cell_type": "markdown",
   "id": "d094cea8-b455-4266-9493-fe90a1ebeeea",
   "metadata": {},
   "source": [
    "#### It Removes elements from the set that are also in the others."
   ]
  },
  {
   "cell_type": "code",
   "execution_count": 41,
   "id": "cc0f7a00-1ae9-4bcc-8de2-34be6867bbf6",
   "metadata": {},
   "outputs": [
    {
     "data": {
      "text/plain": [
       "{30, 40, 50}"
      ]
     },
     "execution_count": 41,
     "metadata": {},
     "output_type": "execute_result"
    }
   ],
   "source": [
    "s1\n"
   ]
  },
  {
   "cell_type": "code",
   "execution_count": 43,
   "id": "39ab60e2-0b61-41e8-b8ac-57d6b6f9807e",
   "metadata": {},
   "outputs": [
    {
     "data": {
      "text/plain": [
       "{20, 30, 40}"
      ]
     },
     "execution_count": 43,
     "metadata": {},
     "output_type": "execute_result"
    }
   ],
   "source": [
    "s2"
   ]
  },
  {
   "cell_type": "code",
   "execution_count": 45,
   "id": "08bbd4b5-c97f-4b74-976c-6ca4e7cdb26b",
   "metadata": {},
   "outputs": [],
   "source": [
    "s1.difference_update(s2)"
   ]
  },
  {
   "cell_type": "code",
   "execution_count": 53,
   "id": "ee5bcde1-93b4-4a72-b5ba-950d97fe75d9",
   "metadata": {},
   "outputs": [
    {
     "data": {
      "text/plain": [
       "{50}"
      ]
     },
     "execution_count": 53,
     "metadata": {},
     "output_type": "execute_result"
    }
   ],
   "source": [
    "s1"
   ]
  },
  {
   "cell_type": "markdown",
   "id": "3bbd8fc5-33e6-473c-b8d2-c50e9e025139",
   "metadata": {},
   "source": [
    "## Discard()"
   ]
  },
  {
   "cell_type": "markdown",
   "id": "a49a1d71-92d5-4f7d-897d-c83d32c5a7af",
   "metadata": {},
   "source": [
    "#### It Removes an element elem from the set if it is a member. If the element is not a member, do nothing."
   ]
  },
  {
   "cell_type": "code",
   "execution_count": 55,
   "id": "826ea989-77d2-48fe-8612-fae2f516ac39",
   "metadata": {},
   "outputs": [
    {
     "data": {
      "text/plain": [
       "{10, 20, 30, 40, 50, 60, 70}"
      ]
     },
     "execution_count": 55,
     "metadata": {},
     "output_type": "execute_result"
    }
   ],
   "source": [
    "my_set"
   ]
  },
  {
   "cell_type": "code",
   "execution_count": 58,
   "id": "e9f01117-f23b-4caf-bd74-b9a029cbd84f",
   "metadata": {},
   "outputs": [],
   "source": [
    "my_set.discard(30)"
   ]
  },
  {
   "cell_type": "code",
   "execution_count": 60,
   "id": "76ac3491-dbd2-4601-9558-b76218e82f74",
   "metadata": {},
   "outputs": [
    {
     "data": {
      "text/plain": [
       "{10, 20, 40, 50, 60, 70}"
      ]
     },
     "execution_count": 60,
     "metadata": {},
     "output_type": "execute_result"
    }
   ],
   "source": [
    "my_set"
   ]
  },
  {
   "cell_type": "markdown",
   "id": "0b69871a-ed1b-4919-8f13-380fbdf94f48",
   "metadata": {},
   "source": [
    "## Intersection()"
   ]
  },
  {
   "cell_type": "markdown",
   "id": "f6a4a783-667f-440e-9b91-be7d7e2f2a09",
   "metadata": {},
   "source": [
    "#### It Returns a new set with elements common to the set and all others"
   ]
  },
  {
   "cell_type": "code",
   "execution_count": 64,
   "id": "d352c2d6-941e-4974-802c-8ead8fef6d2f",
   "metadata": {},
   "outputs": [
    {
     "data": {
      "text/plain": [
       "{30, 40, 50}"
      ]
     },
     "execution_count": 64,
     "metadata": {},
     "output_type": "execute_result"
    }
   ],
   "source": [
    "s1"
   ]
  },
  {
   "cell_type": "code",
   "execution_count": 66,
   "id": "0a687e66-c4f6-4201-abe4-988f66d8b157",
   "metadata": {},
   "outputs": [
    {
     "data": {
      "text/plain": [
       "{20, 30, 40}"
      ]
     },
     "execution_count": 66,
     "metadata": {},
     "output_type": "execute_result"
    }
   ],
   "source": [
    "s2"
   ]
  },
  {
   "cell_type": "code",
   "execution_count": 68,
   "id": "a0adeb34-7cbb-4f10-a26c-486b4deec20b",
   "metadata": {},
   "outputs": [
    {
     "data": {
      "text/plain": [
       "{30, 40}"
      ]
     },
     "execution_count": 68,
     "metadata": {},
     "output_type": "execute_result"
    }
   ],
   "source": [
    "s1.intersection(s2)"
   ]
  },
  {
   "cell_type": "markdown",
   "id": "7f36eceb-7f44-45d1-8c66-e6e75b87a9ef",
   "metadata": {},
   "source": [
    "## Intersection_update()"
   ]
  },
  {
   "cell_type": "markdown",
   "id": "6d61ae43-9356-4855-aba1-2242747c0955",
   "metadata": {},
   "source": [
    "#### It Updates the set, keeping only elements found in it and all others."
   ]
  },
  {
   "cell_type": "code",
   "execution_count": 70,
   "id": "eb730c88-a0ee-40d4-af10-e0e8cc75b90b",
   "metadata": {},
   "outputs": [
    {
     "data": {
      "text/plain": [
       "{30, 40, 50}"
      ]
     },
     "execution_count": 70,
     "metadata": {},
     "output_type": "execute_result"
    }
   ],
   "source": [
    "s1"
   ]
  },
  {
   "cell_type": "code",
   "execution_count": 72,
   "id": "ca223cb8-fccb-4204-90e2-1b939293da65",
   "metadata": {},
   "outputs": [
    {
     "data": {
      "text/plain": [
       "{20, 30, 40}"
      ]
     },
     "execution_count": 72,
     "metadata": {},
     "output_type": "execute_result"
    }
   ],
   "source": [
    "s2"
   ]
  },
  {
   "cell_type": "code",
   "execution_count": 75,
   "id": "62a6bf61-e3f0-46d4-8fd9-7bec6c4f2870",
   "metadata": {},
   "outputs": [],
   "source": [
    "s1.intersection_update(s2)"
   ]
  },
  {
   "cell_type": "code",
   "execution_count": 77,
   "id": "05ab2fc2-08b8-4b32-888d-dd5cbd07349a",
   "metadata": {},
   "outputs": [
    {
     "data": {
      "text/plain": [
       "{30, 40}"
      ]
     },
     "execution_count": 77,
     "metadata": {},
     "output_type": "execute_result"
    }
   ],
   "source": [
    "s1"
   ]
  },
  {
   "cell_type": "markdown",
   "id": "0dc3371f-dde9-40f3-9ba6-a2093921db3c",
   "metadata": {},
   "source": [
    "## Isdisjoint()"
   ]
  },
  {
   "cell_type": "markdown",
   "id": "00751809-08ef-4f06-bb1c-c10f7190cdc8",
   "metadata": {},
   "source": [
    "#### This methods Returns True if the set has no elements in common with other. If the set and other are disjoint, returns False otherwise."
   ]
  },
  {
   "cell_type": "code",
   "execution_count": 81,
   "id": "948b24f9-bc10-48e7-81c6-48b5e85ce720",
   "metadata": {},
   "outputs": [
    {
     "data": {
      "text/plain": [
       "{30, 40, 50}"
      ]
     },
     "execution_count": 81,
     "metadata": {},
     "output_type": "execute_result"
    }
   ],
   "source": [
    "s1"
   ]
  },
  {
   "cell_type": "code",
   "execution_count": 83,
   "id": "ad17e1fb-7968-4208-abbe-781184fa9bc9",
   "metadata": {},
   "outputs": [
    {
     "data": {
      "text/plain": [
       "{20, 30, 40}"
      ]
     },
     "execution_count": 83,
     "metadata": {},
     "output_type": "execute_result"
    }
   ],
   "source": [
    "s2"
   ]
  },
  {
   "cell_type": "code",
   "execution_count": 85,
   "id": "d4c5f65d-bf7c-4361-a07f-a095659fe2ca",
   "metadata": {},
   "outputs": [
    {
     "data": {
      "text/plain": [
       "False"
      ]
     },
     "execution_count": 85,
     "metadata": {},
     "output_type": "execute_result"
    }
   ],
   "source": [
    "s1.isdisjoint(s2)"
   ]
  },
  {
   "cell_type": "markdown",
   "id": "49a4fb7e-86be-4049-ae86-1e471b0deadb",
   "metadata": {},
   "source": [
    "## Issubset()"
   ]
  },
  {
   "cell_type": "markdown",
   "id": "0b049c44-217f-48f6-9087-c02f1366076b",
   "metadata": {},
   "source": [
    "#### It Returns True if all elements of the set are in other, False otherwise."
   ]
  },
  {
   "cell_type": "code",
   "execution_count": 87,
   "id": "7adf6e4a-d653-4146-af63-44bb1c294d4b",
   "metadata": {},
   "outputs": [
    {
     "data": {
      "text/plain": [
       "{30, 40, 50}"
      ]
     },
     "execution_count": 87,
     "metadata": {},
     "output_type": "execute_result"
    }
   ],
   "source": [
    "s1"
   ]
  },
  {
   "cell_type": "code",
   "execution_count": 89,
   "id": "7561ca41-e668-44b3-a8db-1b004ffe8ff1",
   "metadata": {},
   "outputs": [
    {
     "data": {
      "text/plain": [
       "{20, 30, 40}"
      ]
     },
     "execution_count": 89,
     "metadata": {},
     "output_type": "execute_result"
    }
   ],
   "source": [
    "s2"
   ]
  },
  {
   "cell_type": "code",
   "execution_count": 92,
   "id": "fa31f0bf-ec4a-48e4-8027-eefb0a2c0ff7",
   "metadata": {},
   "outputs": [
    {
     "data": {
      "text/plain": [
       "False"
      ]
     },
     "execution_count": 92,
     "metadata": {},
     "output_type": "execute_result"
    }
   ],
   "source": [
    "s1.issubset(s2)"
   ]
  },
  {
   "cell_type": "markdown",
   "id": "60c886c3-3d61-42df-98b5-0661c6795d17",
   "metadata": {},
   "source": [
    "## Issuperset()"
   ]
  },
  {
   "cell_type": "markdown",
   "id": "560d4c55-48bd-441f-953f-db04e9487de6",
   "metadata": {},
   "source": [
    "#### This methods Returns True if all elements of other are in the set, False otherwise."
   ]
  },
  {
   "cell_type": "code",
   "execution_count": 94,
   "id": "bf9e601d-c11b-40ee-8c83-481f83eccf4e",
   "metadata": {},
   "outputs": [
    {
     "data": {
      "text/plain": [
       "{30, 40, 50}"
      ]
     },
     "execution_count": 94,
     "metadata": {},
     "output_type": "execute_result"
    }
   ],
   "source": [
    "s1"
   ]
  },
  {
   "cell_type": "code",
   "execution_count": 96,
   "id": "110ec5f3-0024-47ce-9303-13f975277012",
   "metadata": {},
   "outputs": [
    {
     "data": {
      "text/plain": [
       "{20, 30, 40}"
      ]
     },
     "execution_count": 96,
     "metadata": {},
     "output_type": "execute_result"
    }
   ],
   "source": [
    "s2"
   ]
  },
  {
   "cell_type": "code",
   "execution_count": 98,
   "id": "58dee5a8-a0c0-4777-a005-aa1ab1599446",
   "metadata": {},
   "outputs": [
    {
     "data": {
      "text/plain": [
       "False"
      ]
     },
     "execution_count": 98,
     "metadata": {},
     "output_type": "execute_result"
    }
   ],
   "source": [
    "s1.issuperset(s2)"
   ]
  },
  {
   "cell_type": "markdown",
   "id": "4a0c6060-6537-4100-bb66-d940951d916e",
   "metadata": {},
   "source": [
    "## Pop()"
   ]
  },
  {
   "cell_type": "markdown",
   "id": "4c890fb9-e6c6-473e-8239-0215765e4b09",
   "metadata": {},
   "source": [
    "#### It Removes and returns an arbitrary element from the set. Raises KeyError if the set is empty."
   ]
  },
  {
   "cell_type": "code",
   "execution_count": 109,
   "id": "5c172f18-af4c-40a8-89ca-d21240ef3428",
   "metadata": {},
   "outputs": [
    {
     "data": {
      "text/plain": [
       "{10, 20, 30, 40, 50, 60}"
      ]
     },
     "execution_count": 109,
     "metadata": {},
     "output_type": "execute_result"
    }
   ],
   "source": [
    "my_set"
   ]
  },
  {
   "cell_type": "code",
   "execution_count": 110,
   "id": "e2db9ecf-0f4f-488a-a172-c414c1154683",
   "metadata": {},
   "outputs": [
    {
     "data": {
      "text/plain": [
       "50"
      ]
     },
     "execution_count": 110,
     "metadata": {},
     "output_type": "execute_result"
    }
   ],
   "source": [
    "my_set.pop()"
   ]
  },
  {
   "cell_type": "code",
   "execution_count": 115,
   "id": "d3b03fdb-6f77-48d5-a3e6-604aa81809e7",
   "metadata": {},
   "outputs": [
    {
     "data": {
      "text/plain": [
       "{10, 20, 30, 40, 60}"
      ]
     },
     "execution_count": 115,
     "metadata": {},
     "output_type": "execute_result"
    }
   ],
   "source": [
    "my_set"
   ]
  },
  {
   "cell_type": "markdown",
   "id": "2a3f4a61-b99d-433a-bd7e-1cd81ec83e85",
   "metadata": {},
   "source": [
    "## Symmetric_difference()"
   ]
  },
  {
   "cell_type": "markdown",
   "id": "687aa244-2576-4dff-a8d0-f6bc8ea9027a",
   "metadata": {},
   "source": [
    "#### It Returns a new set with elements in either the set or other but not in both."
   ]
  },
  {
   "cell_type": "code",
   "execution_count": 119,
   "id": "c7ed9695-10b5-433d-ba9d-b5a9d6b03380",
   "metadata": {},
   "outputs": [
    {
     "data": {
      "text/plain": [
       "{30, 40, 50}"
      ]
     },
     "execution_count": 119,
     "metadata": {},
     "output_type": "execute_result"
    }
   ],
   "source": [
    "s1"
   ]
  },
  {
   "cell_type": "code",
   "execution_count": 121,
   "id": "d50364f7-a9f0-45f2-8b9f-5ec03b3b40eb",
   "metadata": {},
   "outputs": [
    {
     "data": {
      "text/plain": [
       "{20, 30, 40}"
      ]
     },
     "execution_count": 121,
     "metadata": {},
     "output_type": "execute_result"
    }
   ],
   "source": [
    "s2"
   ]
  },
  {
   "cell_type": "code",
   "execution_count": 122,
   "id": "7903afe6-8df2-4cb1-8be4-a9b7fca04adb",
   "metadata": {},
   "outputs": [
    {
     "data": {
      "text/plain": [
       "{20, 50}"
      ]
     },
     "execution_count": 122,
     "metadata": {},
     "output_type": "execute_result"
    }
   ],
   "source": [
    "s1.symmetric_difference(s2)"
   ]
  },
  {
   "cell_type": "markdown",
   "id": "c3dde7ad-48da-48a5-b18a-bf966a00ba3b",
   "metadata": {},
   "source": [
    "## Symmetric_difference_update()"
   ]
  },
  {
   "cell_type": "code",
   "execution_count": 125,
   "id": "d7287002-6285-4073-913d-985272d9d616",
   "metadata": {},
   "outputs": [
    {
     "data": {
      "text/plain": [
       "{30, 40, 50}"
      ]
     },
     "execution_count": 125,
     "metadata": {},
     "output_type": "execute_result"
    }
   ],
   "source": [
    "s1"
   ]
  },
  {
   "cell_type": "code",
   "execution_count": 127,
   "id": "d95aa957-c44a-46a4-be18-3d714153d614",
   "metadata": {},
   "outputs": [
    {
     "data": {
      "text/plain": [
       "{20, 30, 40}"
      ]
     },
     "execution_count": 127,
     "metadata": {},
     "output_type": "execute_result"
    }
   ],
   "source": [
    "s2"
   ]
  },
  {
   "cell_type": "code",
   "execution_count": 129,
   "id": "defd7f3a-185a-4274-b611-8b7e31c87b03",
   "metadata": {},
   "outputs": [],
   "source": [
    "s1.symmetric_difference_update(s2)"
   ]
  },
  {
   "cell_type": "code",
   "execution_count": 131,
   "id": "0f5f1c2c-3f75-42c5-9ac9-921a8fdbbb29",
   "metadata": {},
   "outputs": [
    {
     "data": {
      "text/plain": [
       "{30, 40, 50}"
      ]
     },
     "execution_count": 131,
     "metadata": {},
     "output_type": "execute_result"
    }
   ],
   "source": [
    "s1"
   ]
  },
  {
   "cell_type": "markdown",
   "id": "17e5f066-8b23-4859-ad03-d3322ea9c2bf",
   "metadata": {},
   "source": [
    "## Union()"
   ]
  },
  {
   "cell_type": "markdown",
   "id": "6549e7c5-ef3c-4fba-8126-e5ed4394cea0",
   "metadata": {},
   "source": [
    "#### It Returns a new set with elements from the set and all others."
   ]
  },
  {
   "cell_type": "code",
   "execution_count": 133,
   "id": "f4ac2a46-adcf-4768-a387-826562a6ee50",
   "metadata": {},
   "outputs": [
    {
     "data": {
      "text/plain": [
       "{30, 40, 50}"
      ]
     },
     "execution_count": 133,
     "metadata": {},
     "output_type": "execute_result"
    }
   ],
   "source": [
    "s1"
   ]
  },
  {
   "cell_type": "code",
   "execution_count": 135,
   "id": "47646605-86c4-417a-9731-05431e041d17",
   "metadata": {},
   "outputs": [
    {
     "data": {
      "text/plain": [
       "{20, 30, 40}"
      ]
     },
     "execution_count": 135,
     "metadata": {},
     "output_type": "execute_result"
    }
   ],
   "source": [
    "s2"
   ]
  },
  {
   "cell_type": "code",
   "execution_count": 137,
   "id": "80ed80e8-25ee-42b0-b712-6c9f33c88f0e",
   "metadata": {},
   "outputs": [
    {
     "data": {
      "text/plain": [
       "{20, 30, 40, 50}"
      ]
     },
     "execution_count": 137,
     "metadata": {},
     "output_type": "execute_result"
    }
   ],
   "source": [
    "s1.union(s2)"
   ]
  },
  {
   "cell_type": "markdown",
   "id": "f36b649e-23d7-4686-bdc7-24c07db2a60a",
   "metadata": {},
   "source": [
    "## Update()"
   ]
  },
  {
   "cell_type": "markdown",
   "id": "4bafe9f3-5714-4cf7-b1ea-ef758e512229",
   "metadata": {},
   "source": [
    "#### This Methods Updates the set, adding elements from all others."
   ]
  },
  {
   "cell_type": "code",
   "execution_count": 139,
   "id": "acfca095-797e-4c96-b1a0-d3750dad80a0",
   "metadata": {},
   "outputs": [
    {
     "data": {
      "text/plain": [
       "{30, 40, 50}"
      ]
     },
     "execution_count": 139,
     "metadata": {},
     "output_type": "execute_result"
    }
   ],
   "source": [
    " s1"
   ]
  },
  {
   "cell_type": "code",
   "execution_count": 141,
   "id": "57e91dd8-ee7a-4c9d-baa7-08c80254ce42",
   "metadata": {},
   "outputs": [
    {
     "data": {
      "text/plain": [
       "{20, 30, 40}"
      ]
     },
     "execution_count": 141,
     "metadata": {},
     "output_type": "execute_result"
    }
   ],
   "source": [
    "s2"
   ]
  },
  {
   "cell_type": "code",
   "execution_count": 143,
   "id": "51971f44-68a9-4364-9ba6-413f6da96ef5",
   "metadata": {},
   "outputs": [],
   "source": [
    "s1.update(s2)"
   ]
  },
  {
   "cell_type": "code",
   "execution_count": 145,
   "id": "b0572b47-7ee0-41f4-b30c-9e13c958dd3a",
   "metadata": {},
   "outputs": [
    {
     "data": {
      "text/plain": [
       "{20, 30, 40, 50}"
      ]
     },
     "execution_count": 145,
     "metadata": {},
     "output_type": "execute_result"
    }
   ],
   "source": [
    "s1"
   ]
  },
  {
   "cell_type": "code",
   "execution_count": null,
   "id": "ba5a559c-dfa5-41fd-aa53-c6a1d7c8938a",
   "metadata": {},
   "outputs": [],
   "source": []
  }
 ],
 "metadata": {
  "kernelspec": {
   "display_name": "Python 3 (ipykernel)",
   "language": "python",
   "name": "python3"
  },
  "language_info": {
   "codemirror_mode": {
    "name": "ipython",
    "version": 3
   },
   "file_extension": ".py",
   "mimetype": "text/x-python",
   "name": "python",
   "nbconvert_exporter": "python",
   "pygments_lexer": "ipython3",
   "version": "3.11.7"
  }
 },
 "nbformat": 4,
 "nbformat_minor": 5
}
